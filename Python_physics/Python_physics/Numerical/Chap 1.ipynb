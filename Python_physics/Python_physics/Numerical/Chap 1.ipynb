{
 "cells": [
  {
   "cell_type": "markdown",
   "metadata": {},
   "source": [
    "# 求解方程"
   ]
  },
  {
   "cell_type": "markdown",
   "metadata": {},
   "source": [
    "## 法1:二分法：\n",
    "给定$f,a,b$。首先判断$f(a)\\cdot f(b)<0 \\ or\\ >0$。如果确实小于0，OK，可以进入循环！\n",
    "<br>\n",
    "$$c = (a+b)\\to f(c)\\cdot f(a)<0 \\ or\\ f(c)\\cdot f(b)<0$$\n",
    "$$if\\ f(c)\\cdot f(a)<0:b = c, c = (a+b)/2, \\Delta =|f(c)|$$"
   ]
  },
  {
   "cell_type": "code",
   "execution_count": 3,
   "metadata": {},
   "outputs": [
    {
     "name": "stdout",
     "output_type": "stream",
     "text": [
      "Ok, the best answer now is 0.75\n",
      "Ok, the best answer now is 0.625\n",
      "Ok, the best answer now is 0.6875\n",
      "Ok, the best answer now is 0.65625\n",
      "Ok, the best answer now is 0.671875\n",
      "Ok, the best answer now is 0.6796875\n",
      "Ok, the best answer now is 0.68359375\n",
      "Ok, the best answer now is 0.681640625\n",
      "Ok, the best answer now is 0.6826171875\n",
      "Ok, the best answer now is 0.68212890625\n",
      "Ok, the best answer now is 0.682373046875\n",
      "Ok, the best answer now is 0.6822509765625\n",
      "Ok, the best answer now is 0.68231201171875\n",
      "Ok, the best answer now is 0.682342529296875\n",
      "Ok, the best answer now is 0.6823272705078125\n",
      "Ok, the best answer now is 0.6823348999023438\n",
      "Ok, the best answer now is 0.6823310852050781\n",
      "Ok, the best answer now is 0.6823291778564453\n",
      "Ok, the best answer now is 0.6823282241821289\n",
      "Ok, the best answer now is 0.6823277473449707\n",
      "Fine, I have found the root 0.6823277473449707!\n"
     ]
    }
   ],
   "source": [
    "import numpy as np\n",
    "import matplotlib.pyplot as plt\n",
    "\n",
    "def func(x):\n",
    "    y = x**3 + x - 1 \n",
    "    return y\n",
    "\n",
    "def bisection(func,a,b,epsilon=1e-6):\n",
    "    if func(a)== 0:\n",
    "        print(\"Stupid boy a is just the root!\")\n",
    "    elif func(b) == 0:\n",
    "        print(\"Stupid boy b is just the root!\")\n",
    "    elif func(a)*func(b)>0:\n",
    "        print(\"I am sorry,please try another a and b again~\")\n",
    "    else:\n",
    "        temp = (a+b)/2\n",
    "        delta = np.abs(func(temp))\n",
    "        while delta >= epsilon:\n",
    "            if func(temp)*func(a)<0:\n",
    "                b = temp\n",
    "                temp = (b + a)/2\n",
    "                delta = np.abs(func(temp))\n",
    "                print(f\"Ok, the best answer now is {temp}\")\n",
    "            elif func(temp)*func(b)<0:\n",
    "                a = temp \n",
    "                temp = (a + b)/2\n",
    "                delta = np.abs(func(temp))\n",
    "                print(f\"Ok, the best answer now is {temp}\")\n",
    "            elif func(temp) == 0:\n",
    "                break\n",
    "        print(f\"Fine, I have found the root {temp}!\")\n",
    "bisection(func,0,1)"
   ]
  },
  {
   "cell_type": "code",
   "execution_count": 1,
   "metadata": {},
   "outputs": [
    {
     "name": "stdout",
     "output_type": "stream",
     "text": [
      "Populating the interactive namespace from numpy and matplotlib\n"
     ]
    },
    {
     "data": {
      "text/plain": [
       "445.23947730772977"
      ]
     },
     "execution_count": 1,
     "metadata": {},
     "output_type": "execute_result"
    }
   ],
   "source": []
  },
  {
   "cell_type": "code",
   "execution_count": null,
   "metadata": {},
   "outputs": [],
   "source": []
  }
 ],
 "metadata": {
  "kernelspec": {
   "display_name": "Python 3",
   "language": "python",
   "name": "python3"
  },
  "language_info": {
   "codemirror_mode": {
    "name": "ipython",
    "version": 3
   },
   "file_extension": ".py",
   "mimetype": "text/x-python",
   "name": "python",
   "nbconvert_exporter": "python",
   "pygments_lexer": "ipython3",
   "version": "3.7.3"
  }
 },
 "nbformat": 4,
 "nbformat_minor": 2
}
