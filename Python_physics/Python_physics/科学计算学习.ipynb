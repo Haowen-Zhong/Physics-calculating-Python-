{
 "cells": [
  {
   "cell_type": "code",
   "execution_count": 9,
   "metadata": {},
   "outputs": [],
   "source": [
    "import numpy as np\n",
    "a = np.array([1,2,3,4])\n",
    "b = a.reshape(2,-1)"
   ]
  },
  {
   "cell_type": "code",
   "execution_count": 31,
   "metadata": {},
   "outputs": [
    {
     "data": {
      "text/plain": [
       "dtype([('name', 'S32'), ('age', '<i4'), ('weight', '<f4')])"
      ]
     },
     "execution_count": 31,
     "metadata": {},
     "output_type": "execute_result"
    }
   ],
   "source": [
    "#定义结构数组：\n",
    "#实际上就像C语言中的struct结构体\n",
    "#dtype表示numpy的多维数组的元素的数据类型\n",
    "#我们自己定义一个数据类型叫做“人”\n",
    "persontype = np.dtype({'names':['name','age','weight'],'formats':['S32','i','f']})\n",
    "#注意了这里的‘names','formats'是固定的语法！不能改的，在names里面给出人为设定的参数，formats制定类型，两个都是list！\n",
    "#S32 32个字节的字符串类型，由于结构中每个元素大小必须固定，因此需要指定字符串的长度。\n",
    "#i:32bit 的整数类型，相当于np.int32\n",
    "#f:32bit 的单精度浮点数类型，相当于np.float32\n",
    "a = np.array([('Zhong',32,75.5),('Wang',26,65.2)],dtype = persontype)\n",
    "a.dtype"
   ]
  },
  {
   "cell_type": "code",
   "execution_count": 32,
   "metadata": {},
   "outputs": [
    {
     "data": {
      "text/plain": [
       "b'Wang'"
      ]
     },
     "execution_count": 32,
     "metadata": {},
     "output_type": "execute_result"
    }
   ],
   "source": [
    "c = a[1]\n",
    "c[\"name\"]#不知道为什么有b"
   ]
  },
  {
   "cell_type": "code",
   "execution_count": 37,
   "metadata": {},
   "outputs": [
    {
     "name": "stdout",
     "output_type": "stream",
     "text": [
      "[32 26]\n"
     ]
    },
    {
     "data": {
      "text/plain": [
       "40"
      ]
     },
     "execution_count": 37,
     "metadata": {},
     "output_type": "execute_result"
    }
   ],
   "source": [
    "b = a[:][\"age\"]#这里可以直接修改b来修改a\n",
    "print(b)\n",
    "b[0]=40\n",
    "a[0][\"age\"]"
   ]
  },
  {
   "cell_type": "code",
   "execution_count": 38,
   "metadata": {},
   "outputs": [],
   "source": [
    "a.tofile(\"test.bin\")#直接将数组a输出为二进制形式"
   ]
  },
  {
   "cell_type": "markdown",
   "metadata": {},
   "source": [
    "### ufunc ---- universal function 是一种能够对数组的每一个元素进行操作的函数！是C语言级别实现的，因此计算的速度非常快！\n",
    "#### 这就是为什么np.sin(x)可以对数组中的每一个元素运算。\n"
   ]
  },
  {
   "cell_type": "code",
   "execution_count": 54,
   "metadata": {},
   "outputs": [
    {
     "name": "stdout",
     "output_type": "stream",
     "text": [
      "[(0, 1), (1, 2), (2, 3)]\n",
      "<enumerate object at 0x12b28dca8>\n",
      "[(1, 1), (2, 2), (3, 3)]\n",
      "1 1\n",
      "2 2\n",
      "3 3\n"
     ]
    }
   ],
   "source": [
    "import time\n",
    "import math\n",
    "import numpy as np\n",
    "x = [1,2,3]\n",
    "#enumerate() 函数用于将一个可遍历的数据对象(如列表、元组或字符串)组合为一个索引序列，同时列出数据和数据下标，一般用在 for 循环当中。\n",
    "a = list(enumerate(x))\n",
    "print(a)\n",
    "#需要配合list来使用，主要用在for循环，而且可以加一个start参数\n",
    "print(enumerate(x))#直接打印出来是一个数据结构\n",
    "a = list(enumerate(x,start = 1))\n",
    "#start 改变的是编号\n",
    "print(a)\n",
    "for i,t in a :\n",
    "    print(i,t)\n"
   ]
  },
  {
   "cell_type": "code",
   "execution_count": 55,
   "metadata": {},
   "outputs": [
    {
     "name": "stderr",
     "output_type": "stream",
     "text": [
      "/Users/zhonghaowen/anaconda3/lib/python3.7/site-packages/ipykernel_launcher.py:2: DeprecationWarning: time.clock has been deprecated in Python 3.3 and will be removed from Python 3.8: use time.perf_counter or time.process_time instead\n",
      "  \n",
      "/Users/zhonghaowen/anaconda3/lib/python3.7/site-packages/ipykernel_launcher.py:5: DeprecationWarning: time.clock has been deprecated in Python 3.3 and will be removed from Python 3.8: use time.perf_counter or time.process_time instead\n",
      "  \"\"\"\n"
     ]
    },
    {
     "name": "stdout",
     "output_type": "stream",
     "text": [
      "math.sin: 2.5150179999999995\n",
      "numpy.sin: 0.02846300000000035\n"
     ]
    },
    {
     "name": "stderr",
     "output_type": "stream",
     "text": [
      "/Users/zhonghaowen/anaconda3/lib/python3.7/site-packages/ipykernel_launcher.py:9: DeprecationWarning: time.clock has been deprecated in Python 3.3 and will be removed from Python 3.8: use time.perf_counter or time.process_time instead\n",
      "  if __name__ == '__main__':\n",
      "/Users/zhonghaowen/anaconda3/lib/python3.7/site-packages/ipykernel_launcher.py:11: DeprecationWarning: time.clock has been deprecated in Python 3.3 and will be removed from Python 3.8: use time.perf_counter or time.process_time instead\n",
      "  # This is added back by InteractiveShellApp.init_path()\n"
     ]
    }
   ],
   "source": [
    "#这个例子说明的是对于大量的数据而言，numpy.sin在C语言级别的循环计算\n",
    "#但是事实上如果只处理单个数字就是math占上风了\n",
    "x = [i * 0.001 for i in range(10000000)]\n",
    "start = time.clock()\n",
    "for i,t in enumerate(x):\n",
    "   x[i] = math.sin(t)\n",
    "print(\"math.sin:\",time.clock()-start)\n",
    "\n",
    "x = [i * 0.001 for i in range(10000000)]\n",
    "x = np.array(x)#这个就很快了\n",
    "start = time.clock()\n",
    "np.sin(x,x)\n",
    "print(\"numpy.sin:\", time.clock() - start)"
   ]
  },
  {
   "cell_type": "code",
   "execution_count": 61,
   "metadata": {},
   "outputs": [
    {
     "name": "stderr",
     "output_type": "stream",
     "text": [
      "/Users/zhonghaowen/anaconda3/lib/python3.7/site-packages/ipykernel_launcher.py:2: DeprecationWarning: time.clock has been deprecated in Python 3.3 and will be removed from Python 3.8: use time.perf_counter or time.process_time instead\n",
      "  \n",
      "/Users/zhonghaowen/anaconda3/lib/python3.7/site-packages/ipykernel_launcher.py:5: DeprecationWarning: time.clock has been deprecated in Python 3.3 and will be removed from Python 3.8: use time.perf_counter or time.process_time instead\n",
      "  \"\"\"\n",
      "/Users/zhonghaowen/anaconda3/lib/python3.7/site-packages/ipykernel_launcher.py:7: DeprecationWarning: time.clock has been deprecated in Python 3.3 and will be removed from Python 3.8: use time.perf_counter or time.process_time instead\n",
      "  import sys\n"
     ]
    },
    {
     "name": "stdout",
     "output_type": "stream",
     "text": [
      "numpy.sin loop: 0.9202350000000017\n",
      "math.sin loop: 0.2668140000000001\n"
     ]
    },
    {
     "name": "stderr",
     "output_type": "stream",
     "text": [
      "/Users/zhonghaowen/anaconda3/lib/python3.7/site-packages/ipykernel_launcher.py:10: DeprecationWarning: time.clock has been deprecated in Python 3.3 and will be removed from Python 3.8: use time.perf_counter or time.process_time instead\n",
      "  # Remove the CWD from sys.path while we load stuff.\n"
     ]
    }
   ],
   "source": [
    "#确实好像是math快了几倍，不到5倍吧，总之对于单个数的是math快，对array，list是numpy快\n",
    "x = [i * 0.001 for i in range(1000000)]\n",
    "start = time.clock()\n",
    "for i, t in enumerate(x):\n",
    "    x[i] = np.sin(t)\n",
    "print (\"numpy.sin loop:\", time.clock() - start)\n",
    "\n",
    "start = time.clock()\n",
    "for i, t in enumerate(x):\n",
    "    x[i] = math.sin(t)\n",
    "print (\"math.sin loop:\", time.clock() - start)"
   ]
  },
  {
   "cell_type": "code",
   "execution_count": 64,
   "metadata": {},
   "outputs": [
    {
     "ename": "TypeError",
     "evalue": "only size-1 arrays can be converted to Python scalars",
     "output_type": "error",
     "traceback": [
      "\u001b[0;31m---------------------------------------------------------------------------\u001b[0m",
      "\u001b[0;31mTypeError\u001b[0m                                 Traceback (most recent call last)",
      "\u001b[0;32m<ipython-input-64-dce9480096be>\u001b[0m in \u001b[0;36m<module>\u001b[0;34m\u001b[0m\n\u001b[1;32m      6\u001b[0m     \u001b[0;32mreturn\u001b[0m \u001b[0mr\u001b[0m\u001b[0;34m\u001b[0m\u001b[0;34m\u001b[0m\u001b[0m\n\u001b[1;32m      7\u001b[0m \u001b[0mx\u001b[0m \u001b[0;34m=\u001b[0m \u001b[0mnp\u001b[0m\u001b[0;34m.\u001b[0m\u001b[0mlinspace\u001b[0m\u001b[0;34m(\u001b[0m\u001b[0;36m0\u001b[0m\u001b[0;34m,\u001b[0m \u001b[0;36m2\u001b[0m\u001b[0;34m,\u001b[0m \u001b[0;36m1000\u001b[0m\u001b[0;34m)\u001b[0m\u001b[0;34m\u001b[0m\u001b[0;34m\u001b[0m\u001b[0m\n\u001b[0;32m----> 8\u001b[0;31m \u001b[0mprint\u001b[0m\u001b[0;34m(\u001b[0m\u001b[0mtriangle_wave\u001b[0m\u001b[0;34m(\u001b[0m\u001b[0mx\u001b[0m\u001b[0;34m,\u001b[0m\u001b[0;36m0.6\u001b[0m\u001b[0;34m,\u001b[0m\u001b[0;36m0.4\u001b[0m\u001b[0;34m,\u001b[0m\u001b[0;36m1.0\u001b[0m\u001b[0;34m)\u001b[0m\u001b[0;34m)\u001b[0m\u001b[0;34m\u001b[0m\u001b[0;34m\u001b[0m\u001b[0m\n\u001b[0m\u001b[1;32m      9\u001b[0m \u001b[0;31m#可见自己写的这个函数是只能够处理单个数而不能够处理数组的\u001b[0m\u001b[0;34m\u001b[0m\u001b[0;34m\u001b[0m\u001b[0;34m\u001b[0m\u001b[0m\n",
      "\u001b[0;32m<ipython-input-64-dce9480096be>\u001b[0m in \u001b[0;36mtriangle_wave\u001b[0;34m(x, c, c0, hc)\u001b[0m\n\u001b[1;32m      1\u001b[0m \u001b[0;32mdef\u001b[0m \u001b[0mtriangle_wave\u001b[0m\u001b[0;34m(\u001b[0m\u001b[0mx\u001b[0m\u001b[0;34m,\u001b[0m \u001b[0mc\u001b[0m\u001b[0;34m,\u001b[0m \u001b[0mc0\u001b[0m\u001b[0;34m,\u001b[0m \u001b[0mhc\u001b[0m\u001b[0;34m)\u001b[0m\u001b[0;34m:\u001b[0m\u001b[0;34m\u001b[0m\u001b[0;34m\u001b[0m\u001b[0m\n\u001b[0;32m----> 2\u001b[0;31m     \u001b[0mx\u001b[0m \u001b[0;34m=\u001b[0m \u001b[0mx\u001b[0m \u001b[0;34m-\u001b[0m \u001b[0mint\u001b[0m\u001b[0;34m(\u001b[0m\u001b[0mx\u001b[0m\u001b[0;34m)\u001b[0m \u001b[0;31m# 三角波的周期为1，因此只取x坐标的小数部分进行计算\u001b[0m\u001b[0;34m\u001b[0m\u001b[0;34m\u001b[0m\u001b[0m\n\u001b[0m\u001b[1;32m      3\u001b[0m     \u001b[0;32mif\u001b[0m \u001b[0mx\u001b[0m \u001b[0;34m>=\u001b[0m \u001b[0mc\u001b[0m\u001b[0;34m:\u001b[0m \u001b[0mr\u001b[0m \u001b[0;34m=\u001b[0m \u001b[0;36m0.0\u001b[0m\u001b[0;34m\u001b[0m\u001b[0;34m\u001b[0m\u001b[0m\n\u001b[1;32m      4\u001b[0m     \u001b[0;32melif\u001b[0m \u001b[0mx\u001b[0m \u001b[0;34m<\u001b[0m \u001b[0mc0\u001b[0m\u001b[0;34m:\u001b[0m \u001b[0mr\u001b[0m \u001b[0;34m=\u001b[0m \u001b[0mx\u001b[0m \u001b[0;34m/\u001b[0m \u001b[0mc0\u001b[0m \u001b[0;34m*\u001b[0m \u001b[0mhc\u001b[0m\u001b[0;34m\u001b[0m\u001b[0;34m\u001b[0m\u001b[0m\n\u001b[1;32m      5\u001b[0m     \u001b[0;32melse\u001b[0m\u001b[0;34m:\u001b[0m \u001b[0mr\u001b[0m \u001b[0;34m=\u001b[0m \u001b[0;34m(\u001b[0m\u001b[0mc\u001b[0m\u001b[0;34m-\u001b[0m\u001b[0mx\u001b[0m\u001b[0;34m)\u001b[0m \u001b[0;34m/\u001b[0m \u001b[0;34m(\u001b[0m\u001b[0mc\u001b[0m\u001b[0;34m-\u001b[0m\u001b[0mc0\u001b[0m\u001b[0;34m)\u001b[0m \u001b[0;34m*\u001b[0m \u001b[0mhc\u001b[0m\u001b[0;34m\u001b[0m\u001b[0;34m\u001b[0m\u001b[0m\n",
      "\u001b[0;31mTypeError\u001b[0m: only size-1 arrays can be converted to Python scalars"
     ]
    }
   ],
   "source": [
    "def triangle_wave(x, c, c0, hc):\n",
    "    x = x - int(x) # 三角波的周期为1，因此只取x坐标的小数部分进行计算\n",
    "    if x >= c: r = 0.0\n",
    "    elif x < c0: r = x / c0 * hc\n",
    "    else: r = (c-x) / (c-c0) * hc\n",
    "    return r\n",
    "x = np.linspace(0, 2, 1000)\n",
    "print(triangle_wave(x,0.6,0.4,1.0))\n",
    "#可见自己写的这个函数是只能够处理单个数而不能够处理数组的\n",
    "#问题出在 int()只能处理单个数字！而不是别的地方，只要能避免这一点就行了"
   ]
  },
  {
   "cell_type": "code",
   "execution_count": 71,
   "metadata": {},
   "outputs": [
    {
     "name": "stdout",
     "output_type": "stream",
     "text": [
      "1.02046799659729\n"
     ]
    }
   ],
   "source": [
    "#法1:\n",
    "time1 = time.time()\n",
    "x = np.linspace(0, 2, 1000000)\n",
    "y = np.array([triangle_wave(t, 0.6, 0.4, 1.0) for t in x])\n",
    "print(time.time()-time1)\n",
    "#这就是合法操作了。我们首先利用列表包容(List comprehension)计算出一个list，然后\n",
    "#后用array函数将列表转换为数组\n",
    "##但是这种方法每次都需要利用列表包容语法调用函数，对于多维数组是很麻烦的。"
   ]
  },
  {
   "cell_type": "code",
   "execution_count": 72,
   "metadata": {},
   "outputs": [
    {
     "name": "stdout",
     "output_type": "stream",
     "text": [
      "0.4664161205291748\n"
     ]
    }
   ],
   "source": [
    "#法2:\n",
    "#采用frompyfunc 函数来解决\n",
    "#可以看出时间上来说还是有一定提高的！一旦提高数据数量差距就变得很明显了！\n",
    "#这种方法更加值得提倡\n",
    "time1 = time.time()\n",
    "x = np.linspace(0, 2, 1000000)\n",
    "triangle_ufunc = np.frompyfunc( lambda x: triangle_wave(x, 0.6 , 0.4, 1.0), 1, 1)\n",
    "y2 = triangle_ufunc(x)\n",
    "print(time.time()-time1)"
   ]
  },
  {
   "cell_type": "markdown",
   "metadata": {},
   "source": [
    "frompyfunc:调用格式为frompyfunc(func, nin, nout)\n",
    "其中func是计算单个元素的函数，nin是此函数的输入参数的个数，nout是返回值个数\n",
    "用一个lambda函数对triangle_wave的参数进行包装，这样传入frompyfunc的函数就\n",
    "只有一个参数，但是直观感觉这样的效率还不是太高。"
   ]
  },
  {
   "cell_type": "code",
   "execution_count": 84,
   "metadata": {},
   "outputs": [
    {
     "name": "stdout",
     "output_type": "stream",
     "text": [
      "0.43184733390808105\n"
     ]
    }
   ],
   "source": [
    "#法3:比之前更快了一点\n",
    "#这个嵌套函数我也是第一次见到\n",
    "def triangle_func(c, c0, hc):\n",
    "    def trifunc(x):\n",
    "        x = x - int(x)\n",
    "        if x >= c: r = 0.0\n",
    "        elif x < c0: r = x / c0 * hc\n",
    "        else: r = (c-x) / (c-c0) * hc\n",
    "        return r\n",
    "    # 用trifunc函数创建一个ufunc函数，可以直接对数组进行计算\n",
    "    return np.frompyfunc(trifunc, 1, 1)\n",
    "time1 = time.time()\n",
    "x = np.linspace(0, 2, 1000000)\n",
    "y2 = triangle_func(0.6, 0.4, 1.0)(x)\n",
    "print(time.time()-time1)"
   ]
  },
  {
   "cell_type": "code",
   "execution_count": 89,
   "metadata": {},
   "outputs": [
    {
     "name": "stdout",
     "output_type": "stream",
     "text": [
      "[0.75 1.0277777777777777 1.3055555555555556 1.5833333333333335\n",
      " 1.8611111111111112 2.138888888888889 2.416666666666667 2.6944444444444446\n",
      " 2.9722222222222223 3.25]\n"
     ]
    }
   ],
   "source": [
    "def func1(a,b,c):\n",
    "    def func2(x):\n",
    "        x = (x+a)*b+c\n",
    "        return x\n",
    "    return np.frompyfunc(func2,1,1)\n",
    "x = np.linspace(0,5,10)\n",
    "y = func1(0.5,0.5,0.5)(x)\n",
    "print(y)"
   ]
  },
  {
   "cell_type": "code",
   "execution_count": 91,
   "metadata": {},
   "outputs": [
    {
     "ename": "TypeError",
     "evalue": "'int' object is not callable",
     "output_type": "error",
     "traceback": [
      "\u001b[0;31m---------------------------------------------------------------------------\u001b[0m",
      "\u001b[0;31mTypeError\u001b[0m                                 Traceback (most recent call last)",
      "\u001b[0;32m<ipython-input-91-820794103cb1>\u001b[0m in \u001b[0;36m<module>\u001b[0;34m\u001b[0m\n\u001b[1;32m      6\u001b[0m \u001b[0;31m#x = np.linspace(0,5,10)\u001b[0m\u001b[0;34m\u001b[0m\u001b[0;34m\u001b[0m\u001b[0;34m\u001b[0m\u001b[0m\n\u001b[1;32m      7\u001b[0m \u001b[0mx\u001b[0m \u001b[0;34m=\u001b[0m \u001b[0;36m1\u001b[0m\u001b[0;34m\u001b[0m\u001b[0;34m\u001b[0m\u001b[0m\n\u001b[0;32m----> 8\u001b[0;31m \u001b[0my\u001b[0m \u001b[0;34m=\u001b[0m \u001b[0mfunc1\u001b[0m\u001b[0;34m(\u001b[0m\u001b[0;36m0.5\u001b[0m\u001b[0;34m,\u001b[0m\u001b[0;36m0.5\u001b[0m\u001b[0;34m,\u001b[0m\u001b[0;36m0.5\u001b[0m\u001b[0;34m)\u001b[0m\u001b[0;34m(\u001b[0m\u001b[0mx\u001b[0m\u001b[0;34m)\u001b[0m\u001b[0;34m\u001b[0m\u001b[0;34m\u001b[0m\u001b[0m\n\u001b[0m\u001b[1;32m      9\u001b[0m \u001b[0mprint\u001b[0m\u001b[0;34m(\u001b[0m\u001b[0my\u001b[0m\u001b[0;34m)\u001b[0m\u001b[0;34m\u001b[0m\u001b[0;34m\u001b[0m\u001b[0m\n",
      "\u001b[0;31mTypeError\u001b[0m: 'int' object is not callable"
     ]
    }
   ],
   "source": [
    "def func1(a,b,c):\n",
    "    def func2(x):\n",
    "        x = (x+a)*b+c\n",
    "        return x\n",
    "    return x+1#问题出在这里，但是我暂时还说不清楚\n",
    "#x = np.linspace(0,5,10)\n",
    "x = 1\n",
    "y = func1(0.5,0.5,0.5)(x)\n",
    "print(y)\n",
    "#不论是采用单一数字还是数组这个程序都无法跑起来，原因？\n",
    "#Typeerror 是 'int'/'ndarray' object is not callable"
   ]
  },
  {
   "cell_type": "markdown",
   "metadata": {},
   "source": [
    "# 我们来看一下Python 嵌套函数和闭包\n",
    "\n",
    "在一个外函数内定义了一个内函数，内函数里运用了外函数的临时变量，并且外函数的返回值是内函数的引用，\n",
    "这样就构成了一个闭包。"
   ]
  },
  {
   "cell_type": "code",
   "execution_count": 93,
   "metadata": {},
   "outputs": [
    {
     "name": "stdout",
     "output_type": "stream",
     "text": [
      "The first inner func\n",
      "The second inner func\n"
     ]
    }
   ],
   "source": [
    "def out_func():\n",
    "    def inner_func1():\n",
    "        print(\"The first inner func\")\n",
    "        return None\n",
    "    def inner_func2():\n",
    "        print(\"The second inner func\")\n",
    "        return None\n",
    "    inner_func1()\n",
    "    inner_func2()\n",
    "    return None\n",
    "out_func()"
   ]
  },
  {
   "cell_type": "code",
   "execution_count": 94,
   "metadata": {},
   "outputs": [
    {
     "name": "stdout",
     "output_type": "stream",
     "text": [
      "15\n",
      "17\n"
     ]
    }
   ],
   "source": [
    "#Eg of 闭包： outer()是外函数，a和b都是外部函数的临时变量\n",
    "def outer(a):\n",
    "    b = 10\n",
    "    #inner()是内部函数\n",
    "    def inner():\n",
    "        #用到外部函数的临时变量\n",
    "        print(a+b)\n",
    "    #这里返回的就是内函数的引用！！！和之前不太一样\n",
    "    return inner\n",
    "\n",
    "demo1 = outer(5)\n",
    "#这里实际就是构造了一个小函数了demo1已经变成了一个函数\n",
    "demo1()\n",
    "\n",
    "demo2 = outer(7)\n",
    "\n",
    "demo2()\n"
   ]
  },
  {
   "cell_type": "markdown",
   "metadata": {},
   "source": [
    "# 再来看看np.frompyfunc()"
   ]
  },
  {
   "cell_type": "code",
   "execution_count": 100,
   "metadata": {},
   "outputs": [
    {
     "data": {
      "text/plain": [
       "array([2, 3, 4], dtype=object)"
      ]
     },
     "execution_count": 100,
     "metadata": {},
     "output_type": "execute_result"
    }
   ],
   "source": [
    "x = [1,2,3]\n",
    "def func(x):\n",
    "    y = x + 1\n",
    "    return y\n",
    "y = np.frompyfunc(func,1,1)(x)\n",
    "y"
   ]
  },
  {
   "cell_type": "markdown",
   "metadata": {},
   "source": [
    "# 广播\n",
    "当我们使用ufunc函数对两个数组进行计算时，ufunc函数会对这两个数组的对应元素进行计算，因此它要求这两个数组有相同的大小(shape相同)。如果两个数组的shape不同的话，会进行如下的广播(broadcasting)处理：\n",
    "\n",
    "#### 1 让所有输入数组都向其中shape最长的数组看齐，shape中不足的部分都通过在前面加1补齐\n",
    "#### 2 输出数组的shape是输入数组shape的各个轴上的最大值\n",
    "#### 3 如果输入数组的某个轴和输出数组的对应轴的长度相同或者其长度为1时，这个数组能够用来计算，否则出错\n",
    "#### 4 当输入数组的某个轴的长度为1时，沿着此轴运算时都用此轴上的第一组值"
   ]
  },
  {
   "cell_type": "code",
   "execution_count": 1,
   "metadata": {},
   "outputs": [
    {
     "name": "stdout",
     "output_type": "stream",
     "text": [
      "Populating the interactive namespace from numpy and matplotlib\n"
     ]
    }
   ],
   "source": [
    "%pylab inline"
   ]
  },
  {
   "cell_type": "code",
   "execution_count": 29,
   "metadata": {},
   "outputs": [
    {
     "name": "stdout",
     "output_type": "stream",
     "text": [
      "[[ 0]\n",
      " [10]\n",
      " [20]\n",
      " [30]\n",
      " [40]\n",
      " [50]]\n"
     ]
    },
    {
     "data": {
      "text/plain": [
       "(6, 1)"
      ]
     },
     "execution_count": 29,
     "metadata": {},
     "output_type": "execute_result"
    }
   ],
   "source": [
    "a = np.arange(0,60,10).reshape(-1,1)\n",
    "print(a)\n",
    "a.shape"
   ]
  },
  {
   "cell_type": "code",
   "execution_count": 25,
   "metadata": {},
   "outputs": [
    {
     "name": "stdout",
     "output_type": "stream",
     "text": [
      "[0 1 2 3 4]\n",
      "(5,)\n"
     ]
    },
    {
     "data": {
      "text/plain": [
       "numpy.ndarray"
      ]
     },
     "execution_count": 25,
     "metadata": {},
     "output_type": "execute_result"
    }
   ],
   "source": [
    "b = np.arange(0,5)\n",
    "print(b)\n",
    "print(b.shape)\n",
    "type(b)"
   ]
  },
  {
   "cell_type": "code",
   "execution_count": 9,
   "metadata": {
    "scrolled": true
   },
   "outputs": [
    {
     "name": "stdout",
     "output_type": "stream",
     "text": [
      "[[ 0  1  2  3  4]\n",
      " [10 11 12 13 14]\n",
      " [20 21 22 23 24]\n",
      " [30 31 32 33 34]\n",
      " [40 41 42 43 44]\n",
      " [50 51 52 53 54]]\n",
      "(6, 5)\n"
     ]
    }
   ],
   "source": [
    "c = a + b\n",
    "print(c)\n",
    "print(c.shape)"
   ]
  },
  {
   "cell_type": "code",
   "execution_count": 26,
   "metadata": {},
   "outputs": [
    {
     "name": "stdout",
     "output_type": "stream",
     "text": [
      "[0 1 2 3 4]\n",
      "[[0 1 2 3 4]]\n"
     ]
    }
   ],
   "source": [
    "#Step1:根据规则a的shape最大，所以b向a看齐通过在前面补1形成(1,5)\n",
    "print(b)\n",
    "b.shape = 1,5#可以用这种语句改变array的shape,注意了只有np.ndarray才可以，list不可以的\n",
    "print(b)"
   ]
  },
  {
   "cell_type": "code",
   "execution_count": 27,
   "metadata": {},
   "outputs": [
    {
     "data": {
      "text/plain": [
       "array([[0, 1, 2, 3, 4],\n",
       "       [0, 1, 2, 3, 4],\n",
       "       [0, 1, 2, 3, 4],\n",
       "       [0, 1, 2, 3, 4],\n",
       "       [0, 1, 2, 3, 4],\n",
       "       [0, 1, 2, 3, 4]])"
      ]
     },
     "execution_count": 27,
     "metadata": {},
     "output_type": "execute_result"
    }
   ],
   "source": [
    "#step2 相加的两部分为(6,1)和(1,5)，根据规则2，输出数组的各个轴的长度为输入数组各个\n",
    "#轴上的长度的最大值->(6,5)\n",
    "# 由于b的第0轴上长度为1，而a为6，因此为了让他们可以相加需要将b在第0轴上长度扩展为6\n",
    "b = b.repeat(6,axis=0)\n",
    "b\n",
    "#复制了6次"
   ]
  },
  {
   "cell_type": "code",
   "execution_count": 33,
   "metadata": {},
   "outputs": [
    {
     "data": {
      "text/plain": [
       "array([[ 0,  0,  0,  0,  0],\n",
       "       [10, 10, 10, 10, 10],\n",
       "       [20, 20, 20, 20, 20],\n",
       "       [30, 30, 30, 30, 30],\n",
       "       [40, 40, 40, 40, 40],\n",
       "       [50, 50, 50, 50, 50]])"
      ]
     },
     "execution_count": 33,
     "metadata": {},
     "output_type": "execute_result"
    }
   ],
   "source": [
    "#step3 由于a的第1轴长度为1而b的第一轴长度为，为了可以相加需要将a的第一轴复制到5\n",
    "a = a.repeat(5,axis=1)\n",
    "a"
   ]
  },
  {
   "cell_type": "code",
   "execution_count": 34,
   "metadata": {},
   "outputs": [
    {
     "data": {
      "text/plain": [
       "array([[ 0,  1,  2,  3,  4],\n",
       "       [10, 11, 12, 13, 14],\n",
       "       [20, 21, 22, 23, 24],\n",
       "       [30, 31, 32, 33, 34],\n",
       "       [40, 41, 42, 43, 44],\n",
       "       [50, 51, 52, 53, 54]])"
      ]
     },
     "execution_count": 34,
     "metadata": {},
     "output_type": "execute_result"
    }
   ],
   "source": [
    "#因此就看到了我们最开始所计算得到的结果\n",
    "#step1 :(6,1) + (5,)\n",
    "#step2 :answer = (6,5)\n",
    "#step3 (5,)->(1,5)>(6,5)  x\n",
    "#step4 (6,1)->(6,5)       y\n",
    "#step5 answer = x + y\n",
    "a + b\n"
   ]
  },
  {
   "cell_type": "code",
   "execution_count": 40,
   "metadata": {},
   "outputs": [
    {
     "name": "stdout",
     "output_type": "stream",
     "text": [
      "[array([[0],\n",
      "       [1],\n",
      "       [2],\n",
      "       [3],\n",
      "       [4]]), array([[0, 1, 2, 3, 4]])]\n"
     ]
    }
   ],
   "source": [
    "#但是事实上numpy内部采取的不是这种事情，因为用repeat函数扩展很浪费空间。\n",
    "# numpy 提供了 ogrid 快速产生a,b数组\n",
    "x, y = np.ogrid[0:5,0:5]\n",
    "x,y#很有趣地看到结果x是(5,1)，y是(1,5)"
   ]
  },
  {
   "cell_type": "markdown",
   "metadata": {},
   "source": [
    "    ogrid 是一个很有趣的对象，它像一个多维数组一样，用切片组元作为下标进行存取，返回的是一组\n",
    "可以用来广播计算的数组。\n",
    "    其切片有两种形式：\n",
    "    开始值：结束值：步长 ~ np.arange\n",
    "    开始值：结束值：长度j ~np.linspace"
   ]
  },
  {
   "cell_type": "code",
   "execution_count": 41,
   "metadata": {},
   "outputs": [
    {
     "name": "stdout",
     "output_type": "stream",
     "text": [
      "[[0.        ]\n",
      " [0.33333333]\n",
      " [0.66666667]\n",
      " [1.        ]]\n",
      "[[0.  0.5 1. ]]\n"
     ]
    }
   ],
   "source": [
    "x, y = np.ogrid[0:1:4j, 0:1:3j]\n",
    "print(x)\n",
    "print(y)"
   ]
  },
  {
   "cell_type": "code",
   "execution_count": 47,
   "metadata": {},
   "outputs": [
    {
     "name": "stdout",
     "output_type": "stream",
     "text": [
      "slice(None, 5, None)\n",
      "[0 1 2 3 4 5 6 7 8 9]\n",
      "[0 1 2 3 4]\n",
      "[1 3 5 7]\n"
     ]
    }
   ],
   "source": [
    "#中间插播一下slice()函数，因为好像没啥映像了:(\n",
    "#class slice(stop)\n",
    "#class slice (start, stop[, step])#step可有可无\n",
    "#这个函数功能还是不错！\n",
    "myslice = slice(5)\n",
    "myslice2 = slice(1,8,2)\n",
    "print(myslice)\n",
    "arr = np.arange(10)\n",
    "print(arr)\n",
    "print(arr[myslice])\n",
    "print(arr[myslice2])"
   ]
  },
  {
   "cell_type": "code",
   "execution_count": 48,
   "metadata": {},
   "outputs": [],
   "source": [
    "np.ogrid?#可见ogrid并不是函数而是一个类"
   ]
  },
  {
   "cell_type": "code",
   "execution_count": 51,
   "metadata": {},
   "outputs": [],
   "source": [
    "import numpy as np\n",
    "from mayavi import mlab\n",
    "\n",
    "x , y = np.ogrid[-2:2:20j, -2:2:20j]\n",
    "z = x*np.exp( -x**2 - y**2)\n",
    "\n",
    "pl = mlab.surf(x,y,z,warp_scale = \"auto\")\n",
    "mlab.axes(xlabel = 'x',ylabel = 'y', zlabel = 'z')\n",
    "mlab.outline(pl)\n",
    "mlab.show()"
   ]
  },
  {
   "cell_type": "code",
   "execution_count": 104,
   "metadata": {},
   "outputs": [
    {
     "name": "stdout",
     "output_type": "stream",
     "text": [
      "[[[1 2 3 4]\n",
      "  [1 3 4 5]]\n",
      "\n",
      " [[2 4 7 5]\n",
      "  [8 4 3 5]]\n",
      "\n",
      " [[2 5 7 3]\n",
      "  [1 5 3 7]]]\n",
      "(3, 2, 4)\n"
     ]
    }
   ],
   "source": [
    "#下面会用到很多axis，但是我对axis还没有完全吃透，因此在这里再罗列一下\n",
    "b = np.array([[[1,2,3,4],[1,3,4,5]],[[2,4,7,5],[8,4,3,5]],[[2,5,7,3],[1,5,3,7]]])\n",
    "print(b)\n",
    "print(b.shape)#可见axis0长3，axis1长2， axis2长4                                                             "
   ]
  },
  {
   "cell_type": "code",
   "execution_count": 57,
   "metadata": {},
   "outputs": [
    {
     "name": "stdout",
     "output_type": "stream",
     "text": [
      "6\n",
      "[ 6 15]\n",
      "[5 7 9]\n"
     ]
    }
   ],
   "source": [
    "#ufunc 的方法，只对两个输入一个输出的方法有效\n",
    "#reduce \n",
    "print(np.add.reduce([1,2,3]))\n",
    "print(np.add.reduce([[1,2,3],[4,5,6]],axis=1))#1+2+3\n",
    "print(np.add.reduce([[1,2,3],[4,5,6]],axis=0))\n",
    "#现在看起来这个可以理解了，对于第一个只有一个axis无脑相加\n",
    "#第二个指定对第二个轴进行求和，而第二个轴不要理解为列，而是理解为第二个轴可以取遍的数\n",
    "#两个元素 在第二个轴分别可以取遍1，2，3；4，5，6\n",
    "#第三个指定对第一个轴进行求和，而第一个轴不要理解为行，而是理解为第一个轴可以取遍的数\n",
    "#两个元素 在第一个轴分别可以取遍1，4；2，5；3，6"
   ]
  },
  {
   "cell_type": "code",
   "execution_count": 106,
   "metadata": {},
   "outputs": [
    {
     "name": "stdout",
     "output_type": "stream",
     "text": [
      "[[[0 1]\n",
      "  [2 3]]\n",
      "\n",
      " [[4 5]\n",
      "  [6 7]]]\n",
      "np.add.reduce(X,axis=0):\n",
      "[[ 4  6]\n",
      " [ 8 10]]\n",
      "np.add.reduce(X,axis=1):\n",
      "[[ 2  4]\n",
      " [10 12]]\n",
      "np.add.reduce(X,axis=2):\n",
      "[[ 1  5]\n",
      " [ 9 13]]\n",
      "[[0 1]\n",
      " [2 3]]\n",
      "[[4 5]\n",
      " [6 7]]\n"
     ]
    }
   ],
   "source": [
    "X = np.arange(8).reshape(2,2,2)\n",
    "print(X)\n",
    "print(f\"np.add.reduce(X,axis=0):\\n{np.add.reduce(X,axis=0)}\")\n",
    "print(f\"np.add.reduce(X,axis=1):\\n{np.add.reduce(X,axis=1)}\")\n",
    "print(f\"np.add.reduce(X,axis=2):\\n{np.add.reduce(X,axis=2)}\")\n",
    "print(X[0,:,:])\n",
    "print(X[1,:,:])\n",
    "#第0轴可以取遍的已经不是数了而是两个矩阵，对应相加"
   ]
  },
  {
   "cell_type": "code",
   "execution_count": 72,
   "metadata": {},
   "outputs": [
    {
     "name": "stdout",
     "output_type": "stream",
     "text": [
      "5\n",
      "4\n",
      "c[1][2]:5,c[1,2]:5\n"
     ]
    }
   ],
   "source": [
    "a=[[1,2,3],[2,4,5]]\n",
    "print(a[1][2])\n",
    "b = ((1,2,3),(2,4,3))\n",
    "print(b[1][1])\n",
    "c = np.array([[1,2,3],[2,4,5]])\n",
    "print(f\"c[1][2]:{c[1][2]},c[1,2]:{c[1,2]}\")\n",
    "#这个例子告诉我一直忽略的一个问题就是对于tuple和list而言多重嵌套必须像C一样索引\n",
    "#但是np.array就是牛逼，可以用我最喜欢的这种索引方式"
   ]
  },
  {
   "cell_type": "code",
   "execution_count": 98,
   "metadata": {},
   "outputs": [
    {
     "name": "stdout",
     "output_type": "stream",
     "text": [
      "[[1 2 3]\n",
      " [5 7 9]]\n",
      "[[ 1  3  6]\n",
      " [ 4  9 15]]\n"
     ]
    }
   ],
   "source": [
    "np.add.accumulate([1,2,3])#保留中间结果\n",
    "print(np.add.accumulate([[1,2,3],[4,5,6]],axis = 0))\n",
    "print(np.add.accumulate([[1,2,3],[4,5,6]],axis = 1))"
   ]
  },
  {
   "cell_type": "code",
   "execution_count": 100,
   "metadata": {},
   "outputs": [
    {
     "data": {
      "text/plain": [
       "array([5, 7, 9])"
      ]
     },
     "execution_count": 100,
     "metadata": {},
     "output_type": "execute_result"
    }
   ],
   "source": [
    "np.sum([[1,2,3],[4,5,6]],axis=0)"
   ]
  },
  {
   "cell_type": "code",
   "execution_count": 107,
   "metadata": {},
   "outputs": [],
   "source": [
    "#不看ufunc啦！\n",
    "#Matrix容易搞混，这里暂时不考虑\n",
    "#文件读取"
   ]
  },
  {
   "cell_type": "code",
   "execution_count": 109,
   "metadata": {},
   "outputs": [
    {
     "data": {
      "text/plain": [
       "array([[ 0,  1,  2,  3],\n",
       "       [ 4,  5,  6,  7],\n",
       "       [ 8,  9, 10, 11]])"
      ]
     },
     "execution_count": 109,
     "metadata": {},
     "output_type": "execute_result"
    }
   ],
   "source": [
    "a = np.arange(0,12)\n",
    "a.shape = 3,4\n",
    "a"
   ]
  },
  {
   "cell_type": "code",
   "execution_count": 112,
   "metadata": {},
   "outputs": [
    {
     "data": {
      "text/plain": [
       "array([0.0e+000, 4.9e-324, 9.9e-324, 1.5e-323, 2.0e-323, 2.5e-323,\n",
       "       3.0e-323, 3.5e-323, 4.0e-323, 4.4e-323, 4.9e-323, 5.4e-323])"
      ]
     },
     "execution_count": 112,
     "metadata": {},
     "output_type": "execute_result"
    }
   ],
   "source": [
    "a.tofile(\"a.bin\")\n",
    "b = np.fromfile(\"a.bin\", dtype = np.float)\n",
    "b#出错啦！因为类型不对"
   ]
  },
  {
   "cell_type": "code",
   "execution_count": 116,
   "metadata": {},
   "outputs": [
    {
     "name": "stdout",
     "output_type": "stream",
     "text": [
      "int64\n"
     ]
    },
    {
     "data": {
      "text/plain": [
       "array([[ 0,  1,  2,  3],\n",
       "       [ 4,  5,  6,  7],\n",
       "       [ 8,  9, 10, 11]])"
      ]
     },
     "execution_count": 116,
     "metadata": {},
     "output_type": "execute_result"
    }
   ],
   "source": [
    "print(a.dtype)\n",
    "b = np.fromfile(\"a.bin\", dtype = np.int64)\n",
    "b.shape = 3,4\n",
    "b"
   ]
  },
  {
   "cell_type": "code",
   "execution_count": 117,
   "metadata": {},
   "outputs": [
    {
     "ename": "NameError",
     "evalue": "name 'file' is not defined",
     "output_type": "error",
     "traceback": [
      "\u001b[0;31m---------------------------------------------------------------------------\u001b[0m",
      "\u001b[0;31mNameError\u001b[0m                                 Traceback (most recent call last)",
      "\u001b[0;32m<ipython-input-117-0e66524b73d9>\u001b[0m in \u001b[0;36m<module>\u001b[0;34m\u001b[0m\n\u001b[1;32m      2\u001b[0m \u001b[0mb\u001b[0m \u001b[0;34m=\u001b[0m \u001b[0mnp\u001b[0m\u001b[0;34m.\u001b[0m\u001b[0madd\u001b[0m\u001b[0;34m.\u001b[0m\u001b[0maccumulate\u001b[0m\u001b[0;34m(\u001b[0m\u001b[0ma\u001b[0m\u001b[0;34m)\u001b[0m\u001b[0;34m\u001b[0m\u001b[0;34m\u001b[0m\u001b[0m\n\u001b[1;32m      3\u001b[0m \u001b[0mc\u001b[0m \u001b[0;34m=\u001b[0m \u001b[0ma\u001b[0m \u001b[0;34m+\u001b[0m \u001b[0mb\u001b[0m\u001b[0;34m\u001b[0m\u001b[0;34m\u001b[0m\u001b[0m\n\u001b[0;32m----> 4\u001b[0;31m \u001b[0mf\u001b[0m \u001b[0;34m=\u001b[0m \u001b[0mfile\u001b[0m\u001b[0;34m(\u001b[0m\u001b[0;34m\"result.npy\"\u001b[0m\u001b[0;34m,\u001b[0m\u001b[0;34m\"wb\"\u001b[0m\u001b[0;34m)\u001b[0m\u001b[0;34m\u001b[0m\u001b[0;34m\u001b[0m\u001b[0m\n\u001b[0m",
      "\u001b[0;31mNameError\u001b[0m: name 'file' is not defined"
     ]
    }
   ],
   "source": []
  },
  {
   "cell_type": "code",
   "execution_count": null,
   "metadata": {},
   "outputs": [],
   "source": []
  }
 ],
 "metadata": {
  "kernelspec": {
   "display_name": "Python 3",
   "language": "python",
   "name": "python3"
  },
  "language_info": {
   "codemirror_mode": {
    "name": "ipython",
    "version": 3
   },
   "file_extension": ".py",
   "mimetype": "text/x-python",
   "name": "python",
   "nbconvert_exporter": "python",
   "pygments_lexer": "ipython3",
   "version": "3.7.3"
  }
 },
 "nbformat": 4,
 "nbformat_minor": 2
}
