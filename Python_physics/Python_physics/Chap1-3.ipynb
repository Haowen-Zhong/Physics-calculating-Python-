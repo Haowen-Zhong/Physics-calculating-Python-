{
 "cells": [
  {
   "cell_type": "code",
   "execution_count": null,
   "metadata": {},
   "outputs": [],
   "source": [
    "FileHandle = open(FileName, Mode)\n",
    "\"r\" : 只读\n",
    "\"w\" : 如果文件不存在就创建一个文件；如果文件已经存在就re-write！直接覆盖！\n",
    "\"a\" : 增加内容到原文件尾部\n",
    "string命令可以将整个文件用一个string读取\n",
    "string = FileHandle.read()\n",
    "readline()命令可以一次只读一行\n",
    "Line = FileHandle.readline()\n",
    "readlines()命令可以一次读取整个文件并且以行为单位作为list的元素\n",
    "读取完后我们最好关闭文件\n",
    "FileHandle.close()\n",
    "注意了！读取后都是用string存的，即使是list，其中的元素也是一个一个的string"
   ]
  },
  {
   "cell_type": "code",
   "execution_count": null,
   "metadata": {},
   "outputs": [],
   "source": [
    "from xxx import *应该是指将xxx中所有的包全部import！"
   ]
  },
  {
   "cell_type": "code",
   "execution_count": 9,
   "metadata": {},
   "outputs": [
    {
     "name": "stderr",
     "output_type": "stream",
     "text": [
      "/Users/zhonghaowen/anaconda3/lib/python3.7/site-packages/ipykernel_launcher.py:8: RuntimeWarning: invalid value encountered in true_divide\n",
      "  \n"
     ]
    },
    {
     "data": {
      "text/plain": [
       "[<matplotlib.lines.Line2D at 0x11b4f8b70>]"
      ]
     },
     "execution_count": 9,
     "metadata": {},
     "output_type": "execute_result"
    },
    {
     "data": {
      "image/png": "[encoded data removed]",
      "text/plain": [
       "<Figure size 432x288 with 1 Axes>"
      ]
     },
     "metadata": {
      "needs_background": "light"
     },
     "output_type": "display_data"
    }
   ],
   "source": [
    "import numpy as np\n",
    "import matplotlib.pyplot as plt\n",
    "x = np.linspace(-10,10,1000)\n",
    "y = np.sin(x)/x\n",
    "#plt.plot(x,y)\n",
    "#numpy 是聪明的\n",
    "def sinc(x):\n",
    "    return np.sin(x)/x\n",
    "x = np.arange(0,10,0.01)\n",
    "plt.plot(x,sinc(x))\n",
    "#事实证明这两个都可以"
   ]
  },
  {
   "cell_type": "code",
   "execution_count": 15,
   "metadata": {},
   "outputs": [
    {
     "name": "stdout",
     "output_type": "stream",
     "text": [
      "-0.9999999999999634\n"
     ]
    }
   ],
   "source": [
    "from scipy.misc import derivative \n",
    "print(derivative(np.sin,np.pi,dx=0.01,order=9))"
   ]
  },
  {
   "cell_type": "code",
   "execution_count": 16,
   "metadata": {},
   "outputs": [
    {
     "name": "stdout",
     "output_type": "stream",
     "text": [
      "[1. 2. 3. 4.]\n"
     ]
    }
   ],
   "source": [
    "M = np.array([[1,3,-5,2],[0,4,-2,1],[2,-1,3,-1],[1,1,1,1]])\n",
    "b = np.array([0,6,5,10])\n",
    "x = np.linalg.solve(M,b)\n",
    "print(x)#这个还可以解线性方程组是不错的"
   ]
  },
  {
   "cell_type": "code",
   "execution_count": 17,
   "metadata": {},
   "outputs": [
    {
     "name": "stdout",
     "output_type": "stream",
     "text": [
      "(2.0, 2.220446049250313e-14)\n"
     ]
    }
   ],
   "source": [
    "from scipy.integrate import simps\n",
    "from scipy.integrate import quad\n",
    "print(quad(np.sin,0,np.pi))\n",
    "#这个积分是非常非常方便的！"
   ]
  },
  {
   "cell_type": "code",
   "execution_count": 19,
   "metadata": {},
   "outputs": [
    {
     "name": "stdout",
     "output_type": "stream",
     "text": [
      "(1.0000000000000002, 5.842606742906004e-11)\n"
     ]
    }
   ],
   "source": [
    "from scipy import inf#scipy是真的牛逼\n",
    "print(quad(lambda x: np.exp(-x),0,inf))"
   ]
  },
  {
   "cell_type": "code",
   "execution_count": null,
   "metadata": {},
   "outputs": [],
   "source": [
    "matplotlib:\n",
    "-:solid line\n",
    "--:dashed line\n",
    ": : dotted line\n",
    "-.: dash-dot line\n",
    "o:circle\n",
    "^:upward-pointing triangle\n",
    "s:square\n",
    "+:plus\n",
    "x:cross\n",
    "D:diamond\n",
    "\n",
    "c:cyan\n",
    "k:black\n",
    "m:magenta 紫色\n",
    "y:yellow\n",
    "w:white"
   ]
  },
  {
   "cell_type": "code",
   "execution_count": 24,
   "metadata": {},
   "outputs": [
    {
     "data": {
      "text/plain": [
       "[<matplotlib.lines.Line2D at 0x11f084128>,\n",
       " <matplotlib.lines.Line2D at 0x11f0847f0>]"
      ]
     },
     "execution_count": 24,
     "metadata": {},
     "output_type": "execute_result"
    },
    {
     "data": {
      "image/png": "[encoded data removed]",
      "text/plain": [
       "<Figure size 432x288 with 1 Axes>"
      ]
     },
     "metadata": {
      "needs_background": "light"
     },
     "output_type": "display_data"
    }
   ],
   "source": [
    "x = np.linspace(0,100,10)\n",
    "y = np.sin(x)\n",
    "plt.plot(x,y,\"^\",\"b\")"
   ]
  },
  {
   "cell_type": "code",
   "execution_count": null,
   "metadata": {},
   "outputs": [],
   "source": []
  }
 ],
 "metadata": {
  "kernelspec": {
   "display_name": "Python 3",
   "language": "python",
   "name": "python3"
  },
  "language_info": {
   "codemirror_mode": {
    "name": "ipython",
    "version": 3
   },
   "file_extension": ".py",
   "mimetype": "text/x-python",
   "name": "python",
   "nbconvert_exporter": "python",
   "pygments_lexer": "ipython3",
   "version": "3.7.3"
  }
 },
 "nbformat": 4,
 "nbformat_minor": 2
}
