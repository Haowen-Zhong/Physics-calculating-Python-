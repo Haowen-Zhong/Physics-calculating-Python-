{
 "cells": [
  {
   "cell_type": "markdown",
   "metadata": {},
   "source": [
    "## Homework 4\n",
    "\n",
    "## <em> Linear Algebra and Data Modeling</em>\n",
    "<br>\n",
    "This notebook is arranged in cells. Texts are usually written in the markdown cells, and here you can use html tags (make it bold, italic, colored, etc). You can double click on this cell to see the formatting.<br>\n",
    "<br>\n",
    "The ellipsis (...) are provided where you are expected to write your solution but feel free to change the template (not over much) in case this style is not to your taste. <br>\n",
    "<br>\n",
    "<em>Hit \"Shift-Enter\" on a code cell to evaluate it.  Double click a Markdown cell to edit. </em><br>"
   ]
  },
  {
   "cell_type": "markdown",
   "metadata": {},
   "source": [
    "***\n",
    "### Link Okpy"
   ]
  },
  {
   "cell_type": "code",
   "execution_count": null,
   "metadata": {
    "collapsed": true
   },
   "outputs": [],
   "source": [
    "from client.api.notebook import Notebook\n",
    "ok = Notebook('hw4.ok')\n",
    "_ = ok.auth(inline = True)"
   ]
  },
  {
   "cell_type": "markdown",
   "metadata": {},
   "source": [
    "### Imports"
   ]
  },
  {
   "cell_type": "code",
   "execution_count": 3,
   "metadata": {
    "collapsed": true
   },
   "outputs": [],
   "source": [
    "import numpy as np\n",
    "from scipy.integrate import quad\n",
    "#For plotting\n",
    "import matplotlib.pyplot as plt\n",
    "%matplotlib inline"
   ]
  },
  {
   "cell_type": "markdown",
   "metadata": {},
   "source": [
    "***"
   ]
  },
  {
   "cell_type": "markdown",
   "metadata": {},
   "source": [
    "#### Problem 1 - Gaussian Elimination\n",
    "\n",
    "Consider the following circuit of resistors.<br>\n",
    "![alt text](Circuit.png \"Title\")\n",
    "<br>\n",
    "All the resistors have the same resistance $R$. The power rail at the top is at voltage $V_+$ = 5 V. What are the other four voltages, $V_1$ to $V_4$?\n",
    "To answer this question we use Ohm’s law and the Kirchhoff current law, which says that the total net current flow out of (or into) any junction in a circuit must be zero. Thus for the junction at voltage $V_1$, for instance, we have\n",
    "$$ \\frac{V_1 - V_2}{R} + \\frac{V_1 - V_3}{R} + \\frac{V_1 - V_4}{R} + \\frac{V_1 - V_+}{R} = 0 $$\n",
    "<br>or equivalently <br>\n",
    "\\begin{align}\n",
    "4V_1 - V_2 - V_3 - V_4 & = V_+ \\\\\n",
    "-V_1 + 3V_3 & = V_+ \\\\\n",
    "-V_1 + 3V_2 - V_4 & = 0 \\\\\n",
    "-V_1 - V_2 + 4V_4 & = 0 \\\\\n",
    "\\end{align}"
   ]
  },
  {
   "cell_type": "markdown",
   "metadata": {},
   "source": [
    "<span style=\"color:blue\"><i> 1. Write the above system of equations into a matrix form $Ax = b$. Define the coefficient matrix $A$ and the constant matrix $b$. (Note: $x$ is a variable matrix: [$V_1, V_2, V_3, V_4$]) </i></span> <br>"
   ]
  },
  {
   "cell_type": "code",
   "execution_count": null,
   "metadata": {
    "collapsed": true
   },
   "outputs": [],
   "source": [
    "A = ...\n",
    "b = ..."
   ]
  },
  {
   "cell_type": "markdown",
   "metadata": {},
   "source": [
    "<span style=\"color:blue\"> <i> 2. Write a program to solve the four resulting equations using Gaussian elimination and hence find the four voltages. </i></span>"
   ]
  },
  {
   "cell_type": "code",
   "execution_count": null,
   "metadata": {
    "collapsed": true
   },
   "outputs": [],
   "source": [
    "# Gaussian Elimination\n",
    "\n",
    "def GaussianElimination(A, b):\n",
    "    \n",
    "    ...\n",
    "    \n",
    "    return ...\n",
    "\n",
    "x = GaussianElimination(A, b)\n",
    "\n",
    "print('V1 =', x[0], ', V2 =', x[1], ', V3 =', x[2], ', V4 =', x[3])"
   ]
  },
  {
   "cell_type": "markdown",
   "metadata": {},
   "source": [
    "<span style=\"color:blue\"> <i> 3. Modify Part 2 to incorporate partial pivoting. (Make sure that you get the same answer.)"
   ]
  },
  {
   "cell_type": "code",
   "execution_count": null,
   "metadata": {
    "collapsed": true
   },
   "outputs": [],
   "source": [
    "def GaussianElimination_pivot(A, b):\n",
    "    \n",
    "    ...\n",
    "    \n",
    "    return ...\n",
    "\n",
    "x = GaussianElimination_pivot(A, b)\n",
    "\n",
    "print('V1 =', x[0], ', V2 =', x[1], ', V3 =', x[2], ', V4 =', x[3])"
   ]
  },
  {
   "cell_type": "markdown",
   "metadata": {
    "collapsed": true
   },
   "source": [
    "***"
   ]
  },
  {
   "cell_type": "markdown",
   "metadata": {},
   "source": [
    "#### Problem 2 - Solving Least Squares Using Normal Equations and SVD\n",
    "\n",
    "(Reference - NR 15.4) We fit a set of 50 data points $(x_i, y_i)$ to a polynomial $y(x) = a_0 + a_1x + a_2x^2 + a_3x^3$. (Note that this problem is linear in $a_i$ but nonlinear in $x_i$). The uncertainty $\\sigma_i$ associated with each measurement $y_i$ is known, and we assume that the $x_i$'s are known exactly. To measure how well the model agrees with the data, we use the chi-square merit function: <br>\n",
    "$$ \\chi^2 = \\sum_{i=0}^{N-1} \\big( \\frac{y_i-\\sum_{k=0}^{M-1}a_k x^k}{\\sigma_i} \\big)^2. $$\n",
    "<br>\n",
    "where N = 50 and M = 4. Here, $1, x, ... , x^3$ are the basis functions.\n",
    "<br><br>\n",
    "<span style=\"color:blue\"> <i> 1. Plot data (make sure to include error bars). (Hint - https://matplotlib.org/api/_as_gen/matplotlib.axes.Axes.errorbar.html) </i></span><br>"
   ]
  },
  {
   "cell_type": "code",
   "execution_count": null,
   "metadata": {
    "collapsed": true
   },
   "outputs": [],
   "source": [
    "# Load a given 2D data\n",
    "data = np.loadtxt(\"HW4_Problem2_data.dat\")\n",
    "x = data[:,0]\n",
    "y = data[:,1]\n",
    "sig_y = data[:,2]"
   ]
  },
  {
   "cell_type": "code",
   "execution_count": null,
   "metadata": {
    "collapsed": true
   },
   "outputs": [],
   "source": [
    "# Make plot\n",
    "plt.figure(figsize = (10, 7))\n",
    "# Scatter plot\n",
    "..."
   ]
  },
  {
   "cell_type": "markdown",
   "metadata": {},
   "source": [
    "We will pick as best parameters those that minimize $\\chi^2$.<br><br>\n",
    "First, let $\\bf A$ be a matrix whose $N \\times M$ components are constructed from the $M$ basis functions evaluated at the $N$ abscissas $x_i$, and from the $N$ measurement errors $\\sigma_i$, by the prescription\n",
    "$$ A_{ij} = \\frac{X_j(x_i)}{\\sigma_i} $$\n",
    "<br>where $X_0(x) = 1,\\ X_1(x) = x,\\ X_2(x) = x^2,\\ X_3(x) = x^3$. We call this matrix $\\bf A$ the design matrix.\n",
    "<br><br>\n",
    "Also, define a vector $\\bf b$ of length $N$ by\n",
    "$$ b_i = \\frac{y_i}{\\sigma_i} $$\n",
    "<br>and denote the $M$ vector whose components are the parameters to be fitted ($a_0, a_1, a_2, a_3$) by $\\bf a$.\n",
    "<br><br>\n",
    "<span style=\"color:blue\"><i> 2. Define the design matrix A. (Hint: Its dimension should be NxM = 50x4.) Also, define the vector b. </i></span><br>\n"
   ]
  },
  {
   "cell_type": "code",
   "execution_count": null,
   "metadata": {
    "collapsed": true
   },
   "outputs": [],
   "source": [
    "# Define A\n",
    "A = ...\n",
    "# Define b\n",
    "b = ..."
   ]
  },
  {
   "cell_type": "markdown",
   "metadata": {},
   "source": [
    "Minimize $\\chi^2$ by differentiating it with respect to all $M$ parameters $a_k$ vaishes. This condition yields the matrix equation <br>\n",
    "$$ \\sum_{j=0}^{M-1} \\alpha_{kj}a_j = \\beta_k$$ \n",
    "<br> where $\\bf \\boldsymbol \\alpha = A^T \\cdot A$ and $\\bf \\boldsymbol \\beta = A^T \\cdot b$ ($\\boldsymbol \\alpha$ is an $M \\times M$ matrix, and $\\boldsymbol \\beta$ is a vector of length $M$). This is the normal equation of the least squares problem. In matrix form, the normal equations can be written as:\n",
    "$$ \\bf \\boldsymbol \\alpha \\cdot a = \\boldsymbol \\beta. $$\n",
    "<br><br>\n",
    "This can be solved for the vector of parameters $\\bf a$ by linear algebra numerical methods.\n",
    "<br><br>\n",
    "<span style=\"color:blue\"> <i> 3. Define the matrix alpha and vector beta. </i></span><br>"
   ]
  },
  {
   "cell_type": "code",
   "execution_count": null,
   "metadata": {
    "collapsed": true
   },
   "outputs": [],
   "source": [
    "# Transpose of the matrix A\n",
    "A_transpose = ...\n",
    "\n",
    "# alpha matrix\n",
    "alpha = ...\n",
    "# beta vector\n",
    "beta = ..."
   ]
  },
  {
   "cell_type": "markdown",
   "metadata": {},
   "source": [
    "<span style=\"color:blue\"> <i> 4. We have $ \\bf \\boldsymbol \\alpha \\cdot a = \\boldsymbol \\beta. $ Solve for $\\bf a$ using (1) \"GaussianElimination_pivot\" from Part 1 and (2) LU decomposition and forward subsitution and backsubstitution. Plot the best-fit line on top of the data. </i></span><br>"
   ]
  },
  {
   "cell_type": "code",
   "execution_count": null,
   "metadata": {
    "collapsed": true
   },
   "outputs": [],
   "source": [
    "# Using the Gaussian elimination with partial pivoting\n",
    "a = ...\n",
    "\n",
    "print('Using Gaussian Elimination:')\n",
    "print('a0 =', a[0], ', a1 =', a[1], ', a2 =', a[2], ', a3 =', a[3])"
   ]
  },
  {
   "cell_type": "code",
   "execution_count": null,
   "metadata": {
    "collapsed": true
   },
   "outputs": [],
   "source": [
    "# \"lu\" does LU decomposition with pivot. Reference - https://docs.scipy.org/doc/scipy-0.14.0/reference/generated/scipy.linalg.lu_factor.html\n",
    "from scipy.linalg import lu\n",
    "\n",
    "def solve_lu_pivot(A, B):\n",
    "    # LU decomposition with pivot\n",
    "    L, U = lu(A, permute_l=True)\n",
    "    \n",
    "    N = len(B)\n",
    "    \n",
    "    # forward substitution: We have Ly = B. Solve for y\n",
    "    ...\n",
    "\n",
    "    # backward substitution: We have y = Ux. Solve for x.\n",
    "    ...\n",
    "    \n",
    "    return ...\n",
    "\n",
    "a = ...\n",
    "\n",
    "print('Using LU Decomposition:')\n",
    "print('a0 =', a[0], ', a1 =', a[1], ', a2 =', a[2], ', a3 =', a[3])"
   ]
  },
  {
   "cell_type": "code",
   "execution_count": null,
   "metadata": {
    "collapsed": true
   },
   "outputs": [],
   "source": [
    "# Make plot\n",
    "..."
   ]
  },
  {
   "cell_type": "markdown",
   "metadata": {},
   "source": [
    "The inverse matrix $\\bf C = \\boldsymbol \\alpha^{-1}$ is called the covariance matrix, which is closely related to the probable uncertainties of the estimated parameters $\\bf a$. To estimate these uncertainties, we compute the variance associated with the estimate $a_j$. Following NR p.790, we obtain: <br><br>\n",
    "$$ \\sigma^2(a_j) = \\sum_{k=0}^{M-1} \\sum_{l=0}^{M-1} C_{jk} C_{jl} \\alpha_{kl} $$\n",
    "<br>\n",
    "<span style=\"color:blue\"> <i> 5. Compute the error (standard deviation - square root of the variance) on the fitted parameters. </i></span><br>"
   ]
  },
  {
   "cell_type": "code",
   "execution_count": null,
   "metadata": {
    "collapsed": true
   },
   "outputs": [],
   "source": [
    "from scipy.linalg import inv\n",
    "# Covariance matrix\n",
    "C = inv(alpha)\n",
    "\n",
    "...\n",
    "\n",
    "sigma_a0 = ...\n",
    "sigma_a1 = ...\n",
    "sigma_a2 = ...\n",
    "sigma_a3 = ...\n",
    "\n",
    "print('Error: on a0 =', sigma_a0, ', on a1 =', sigma_a1, ', on a2 =', sigma_a2, ', on a3 =', sigma_a3)"
   ]
  },
  {
   "cell_type": "markdown",
   "metadata": {},
   "source": [
    "Now, instead of using the normal equations, we use singular value decomposition (SVD) to find the solution of least squares. Please read Ch. 15 of NR for more details. Remember that we have the $N \\times M$ design matrix $\\bf A$ and the vector $\\bf b$ of length $N$. We wish to mind $\\bf a$ which minimizes $\\chi^2 = |\\bf A \\cdot a - b|^2$.\n",
    "<br><br>\n",
    "Using SVD, we can decompose $\\bf A$ as the product of an $N \\times M$ column-orthogonal matrix $\\bf U$, an $M \\times M$ diagonal matrix $\\bf S$ (with positive or zero elements - the \"singular\" values), and the transpose of an $M \\times M$ orthogonal matrix $\\bf V$. ($\\bf A = USV^{T}$). <br>\n",
    "Let $\\bf U_{(i)}$ and $\\bf V_{(i)}$ denote the columns of $\\bf U$ and $\\bf V$ respectively (Note: We get $M$ number of vectors of length $M$.) $\\bf S_{(i,i)}$ are the $i$th diagonal elements (singular values) of $\\bf S$. Then, the solution of the above least squares problem can be written as:\n",
    "<br>\n",
    "$$ \\bf a = \\sum_{i=1}^M \\big( \\frac{U_{(i)} \\cdot b}{S_{(i,i)}} \\big) V_{(i)}. $$\n",
    "<br><br>\n",
    "The variance in the estimate of a parameter $a_j$ is given by:\n",
    "$$ \\sigma^2(a_j) = \\sum_{i=1}^M \\big( \\frac{V_{ji}}{S_{ii}} \\big)^2 $$\n",
    "<br>\n",
    "and the covariance:\n",
    "$$ \\mathrm{Cov}(a_j, a_k) = \\sum_{i=1}^M \\big( \\frac{V_{ji}V_{ki}}{S_{ii}^2} \\big). $$\n",
    "<br><br>\n",
    "<span style=\"color:blue\"> <i> 6. Decompose the design matrix A using SVD. Estimate the parameter $a_i$'s and its variance. </i></span><br>"
   ]
  },
  {
   "cell_type": "code",
   "execution_count": null,
   "metadata": {
    "collapsed": true
   },
   "outputs": [],
   "source": [
    "# Reference - https://docs.scipy.org/doc/numpy-1.13.0/reference/generated/numpy.linalg.svd.html\n",
    "from scipy.linalg import svd\n",
    "\n",
    "# Decompose A\n",
    "# Note: S, in this case, is a vector of length M, which contains the singular values.\n",
    "U, S, VT = svd(A, full_matrices=False)\n",
    "V = V.T\n",
    "\n",
    "# Solve for a\n",
    "...\n",
    "a_from_SVD = ...\n",
    "\n",
    "print('Using SVD:')\n",
    "print('a0 =', a_from_SVD[0], ', a1 =', a_from_SVD[1], ', a2 =', a_from_SVD[2], ', a3 =', a_from_SVD[3])"
   ]
  },
  {
   "cell_type": "code",
   "execution_count": null,
   "metadata": {
    "collapsed": true
   },
   "outputs": [],
   "source": [
    "# Error on a\n",
    "...\n",
    "sigma_a_SVD = ...\n",
    "\n",
    "\n",
    "print('Error: on a0 =', sigma_a_SVD[0], ', on a1 =', sigma_a_SVD[1], ', on a2 =', sigma_a_SVD[2], ', on a3 =', sigma_a_SVD[3])"
   ]
  },
  {
   "cell_type": "markdown",
   "metadata": {},
   "source": [
    "Suppose that you are only interested in the parameters $a_0$ and $a_1$. We can plot the 2-dimensional confidence region ellipse for these parameters by building the covariance matrix:\n",
    "$$ \\mathrm{C'} =  \\binom{\\sigma({a_0})^2\\ \\ \\ \\ \\ \\ \\mathrm{Cov}({a_0, a_1})}{\\mathrm{Cov}({a_0, a_1}) \\ \\ \\ \\ \\ \\ \\sigma({a_1})^2} $$\n",
    "<br><br>\n",
    "The lengths of the ellipse axes are the square root of the eigenvalues of the covariance matrix, and we can calculate the counter-clockwise rotation of the ellipse with the rotation angle:\n",
    "$$ \\theta = \\frac{1}{2} \\mathrm{arctan}\\Big( \\frac{2\\cdot \\mathrm{Cov}({a_0, a_1})}{\\sigma({a_0})^2-\\sigma({a_1})^2} \\Big) $$\n",
    "<br>\n",
    "Then, we multiply the axis lengths by some factor depending on the confidence level we are interested in. For 68%, this scale factor is $\\sqrt{\\Delta \\chi^2} \\approx 1.52$.\n",
    "<br><br>\n",
    "<span style=\"color:blue\"> <i> 7. Compute the covariance between $a_0$ and $a_1$. Plot the 68% confidence region of the parameter $a_0$ and $a_1$. </i></span><br>"
   ]
  },
  {
   "cell_type": "code",
   "execution_count": null,
   "metadata": {
    "collapsed": true
   },
   "outputs": [],
   "source": [
    "# Compute the covariance\n",
    "...\n",
    "sigma_01 = ...\n",
    "\n",
    "# Build the covariance matrix\n",
    "CovM = np.array([[sigma_a_SVD[0], sigma_01],[sigma_01, sigma_a_SVD[1]]])\n",
    "\n",
    "from numpy.linalg import eigvals\n",
    "axis1 = 1.52*eigvals(CovM)[0]\n",
    "axis2 = 1.52*eigvals(CovM)[1]\n",
    "\n",
    "theta = np.arctan(2*sigma_01/(sigma_a_SVD[0]**2-sigma_a_SVD[1]**2))/2."
   ]
  },
  {
   "cell_type": "code",
   "execution_count": null,
   "metadata": {
    "collapsed": true
   },
   "outputs": [],
   "source": [
    "# Plot the 1-sigma confidence region (https://stackoverflow.com/questions/32371996/python-matplotlib-how-to-plot-ellipse)\n",
    "from matplotlib.patches import Ellipse\n",
    "import matplotlib as mpl\n",
    "\n",
    "ell = mpl.patches.Ellipse(xy=[a[0], a[1]], width=axis1, height=axis2, angle = theta*180/np.pi)\n",
    "fig, ax = plt.subplots(figsize=(7,7))\n",
    "\n",
    "ax.add_patch(ell)\n",
    "ax.set_aspect('equal')\n",
    "ax.autoscale()\n",
    "plt.xlim(-0.7, 0.7)\n",
    "plt.ylim(1.9, 3.3)\n",
    "plt.grid(True)\n",
    "plt.xlabel('$a_0$')\n",
    "plt.ylabel('$a_1$')\n",
    "plt.show()"
   ]
  },
  {
   "cell_type": "markdown",
   "metadata": {},
   "source": [
    "***"
   ]
  },
  {
   "cell_type": "markdown",
   "metadata": {},
   "source": [
    "#### Problem 3 - Rational Function\n",
    "\n",
    "The method of finding least-squares fits using polynomials is widely used, but in some cases rational approximations behave better; they may work where the Taylor approximations do not converge.\n",
    "<br><br>\n",
    "Consider an exponential function $e^{-x}$. The Maclaurin series of this function is $1-x+x^2/2-x^3/6+x^4/24+O(x^5)$. However, this is a poor approximation for large $x$. To resolve this issue, we can instead write it as the rational function:\n",
    "$e^{-x} = \\frac{e^{-x/2}}{e^{x/2}} = \\frac{1-x/2+x^2/8}{1+x/2+x^2/8}$. (For more detail, read NR 5.12 - Pade Approximant)"
   ]
  },
  {
   "cell_type": "code",
   "execution_count": 4,
   "metadata": {},
   "outputs": [
    {
     "data": {
      "image/png": "[encoded data removed]",
      "text/plain": [
       "<matplotlib.figure.Figure at 0x1175b6f60>"
      ]
     },
     "metadata": {},
     "output_type": "display_data"
    }
   ],
   "source": [
    "x = np.linspace(0, 3, 100)\n",
    "plt.plot(x, np.exp(-x), label = \"True\")\n",
    "plt.plot(x, 1-x+x**2/2-x**3/6+x**4/24, label = \"Taylor\")\n",
    "plt.plot(x, (1-x/2+x**2/8)/(1+x/2+x**2/8), label = \"Rational\")\n",
    "plt.xlim(0, 3)\n",
    "plt.legend()\n",
    "plt.show()"
   ]
  },
  {
   "cell_type": "markdown",
   "metadata": {},
   "source": [
    "Now, suppose that we have measured 100 pairs of values $(x_1, y_1), ... , (x_{100}, y_{100})$ of two variables $x, y$.\n",
    "<br><br>\n",
    "<span style=\"color:blue\"> <i> 1. Plot data (make sure to include error bars). (Hint - https://matplotlib.org/api/_as_gen/matplotlib.axes.Axes.errorbar.html) </i></span><br>"
   ]
  },
  {
   "cell_type": "code",
   "execution_count": null,
   "metadata": {
    "collapsed": true
   },
   "outputs": [],
   "source": [
    "# Load a given 2D data\n",
    "data = np.loadtxt(\"HW4_Problem3_data.dat\")\n",
    "x = data[:,0]\n",
    "y = data[:,1]\n",
    "sig_y = data[:,2]"
   ]
  },
  {
   "cell_type": "code",
   "execution_count": null,
   "metadata": {
    "collapsed": true
   },
   "outputs": [],
   "source": [
    "# Make plot\n",
    "..."
   ]
  },
  {
   "cell_type": "markdown",
   "metadata": {},
   "source": [
    "We find that $y \\sim 0$ as $x$ gets large. Hence, it is better to use rational approximations rather than polynomials in this case. We come up with the rational function model for the data:\n",
    "$$ y = \\frac{a_0 + a_1 x + a_2x^2 + a_3x^3}{1 + a_4 x + a_5x^2 + a_6x^3} $$\n",
    "<br>where $a_i$'s are the unknown parameters.\n",
    "<br><br>\n",
    "Multiply both sides by the denominator of the rational function:\n",
    "$$ y = a_0 + a_1 x + a_2x^2 + a_3x^3 - a_4 xy + a_5x^2y + a_6x^3y $$\n",
    "<br> Again, to measure how well the model agrees with the data, we use the chi-square merit function:  $$ \\chi^2 = \\sum_{i=0}^{N-1} \\big( \\frac{y_i-(a_0 + a_1 x_i + a_2x_i^2 + a_3x_i^3 - a_4 x_iy + a_5x_i^2y_i + a_6x_i^3y_i)}{\\sigma_i} \\big)^2. $$\n",
    "<br><br>\n",
    "Wish pick the parameters which minimize $\\chi^2$.<br><br>\n",
    "Let us solve this problem using normal equations.<br><br>\n",
    "First, let $\\bf A$ be the $N \\times M$ ($N$ = 100, $M$ = 7) design matrix:\n",
    "\n",
    "\\begin{bmatrix}\n",
    "    1/\\sigma_{y0} & x_0/\\sigma_{y0} & x_0^2/\\sigma_{y0} & x_0^3/\\sigma_{y0} & -y_0x_0/\\sigma_{y0} & -y_0x_0^2/\\sigma_{y0} & -y_0x_0^3/\\sigma_{y0} \\\\\n",
    "    1/\\sigma_{y1} & x_1/\\sigma_{y1} & x_1^2/\\sigma_{y1} & x_1^3/\\sigma_{y1} & -y_1x_1/\\sigma_{y1} & -y_1x_1^2/\\sigma_{y1} & -y_1x_1^3/\\sigma_{y1} \\\\\n",
    "    ....&....&....&....&....&....&....     \\\\\n",
    "    1/\\sigma_{yN} & x_N/\\sigma_{yN} & x_N^2/\\sigma_{yN} & x_N^3/\\sigma_{yN} & -y_Nx_N/\\sigma_{yN} & -y_Nx_N^2/\\sigma_{yN} & -y_Nx_N^3/\\sigma_{yN}\n",
    "\\end{bmatrix}\n",
    "<br><br>\n",
    "Also, define a vector $\\bf b$ of length $N$ by\n",
    "$$ b_i = \\frac{y_i}{\\sigma_i} $$\n",
    "<br>and denote the $M$ vector whose components are the parameters to be fitted ($a_0, a_1, a_2, a_3, a_4, a_5, a_6$) by $\\bf a$.\n",
    "<br><br>\n",
    "Minimize $\\chi^2$ by differentiating it with respect to all $M$ parameters $a_k$ vaishes. This condition yields the matrix equation <br>\n",
    "$$ \\bf \\boldsymbol \\alpha \\cdot a = \\boldsymbol \\beta. $$\n",
    "<br> where $\\bf \\boldsymbol \\alpha = A^T \\cdot A$ and $\\bf \\boldsymbol \\beta = A^T \\cdot b$ ($\\boldsymbol \\alpha$ is an $M \\times M$ matrix, and $\\boldsymbol \\beta$ is a vector of length $M$). \n",
    "<br><br>\n",
    "<span style=\"color:blue\"><i> 2. We have $ \\bf \\boldsymbol \\alpha \\cdot a = \\boldsymbol \\beta. $ Solve for $\\bf a$ using \"GaussianElimination_pivot\" from Part 1. </i></span><br>"
   ]
  },
  {
   "cell_type": "code",
   "execution_count": null,
   "metadata": {
    "collapsed": true
   },
   "outputs": [],
   "source": [
    "# Define A\n",
    "A = ...\n",
    "# Define b\n",
    "b = ...\n"
   ]
  },
  {
   "cell_type": "code",
   "execution_count": null,
   "metadata": {
    "collapsed": true
   },
   "outputs": [],
   "source": [
    "# Transpose of the matrix A\n",
    "A_transpose = ...\n",
    "\n",
    "# alpha matrix\n",
    "alpha = ...\n",
    "# beta vector\n",
    "beta = ..."
   ]
  },
  {
   "cell_type": "code",
   "execution_count": null,
   "metadata": {
    "collapsed": true
   },
   "outputs": [],
   "source": [
    "# Using the Gaussian elimination with partial pivoting\n",
    "a = ...\n",
    "\n",
    "print('Using Gaussian Elimination:')\n",
    "print('a0 =', a[0], ', a1 =', a[1], ', a2 =', a[2], ', a3 =', a[3], ', a4 =', a[4], ', a5 =', a[5], ', a6 =', a[6])"
   ]
  },
  {
   "cell_type": "markdown",
   "metadata": {},
   "source": [
    "<span style=\"color:blue\"><i> 3. Compute the error (standard deviation - square root of the variance) on the fitted parameters.. </i></span><br>"
   ]
  },
  {
   "cell_type": "code",
   "execution_count": null,
   "metadata": {
    "collapsed": true
   },
   "outputs": [],
   "source": [
    "from scipy.linalg import inv\n",
    "# Covariance matrix\n",
    "C = inv(alpha)\n",
    "\n",
    "...\n",
    "\n",
    "sigma_a0 = ...\n",
    "sigma_a1 = ...\n",
    "sigma_a2 = ...\n",
    "sigma_a3 = ...\n",
    "sigma_a4 = ...\n",
    "sigma_a5 = ...\n",
    "sigma_a6 = ...\n",
    "\n",
    "print('Error: on a0 =', sigma_a0, ', on a1 =', sigma_a1, ', on a2 =', sigma_a2, ', on a3 =', sigma_a3, ', on a4 =', sigma_a4, ', on a5 =', sigma_a5, ', on a6 =', sigma_a6)"
   ]
  },
  {
   "cell_type": "markdown",
   "metadata": {},
   "source": [
    "<span style=\"color:blue\"> <i> 4. Plot the best-fit line on top of the data. </i></span><br>"
   ]
  },
  {
   "cell_type": "code",
   "execution_count": null,
   "metadata": {
    "collapsed": true
   },
   "outputs": [],
   "source": [
    "# Make plot\n",
    "..."
   ]
  },
  {
   "cell_type": "markdown",
   "metadata": {},
   "source": [
    "***"
   ]
  },
  {
   "cell_type": "markdown",
   "metadata": {},
   "source": [
    "## To Submit\n",
    "Execute the following cell to submit.\n",
    "If you make changes, execute the cell again to resubmit the final copy of the notebook, they do not get updated automatically.<br>\n",
    "__We recommend that all the above cells should be executed (their output visible) in the notebook at the time of submission.__ <br>\n",
    "Only the final submission before the deadline will be graded. \n"
   ]
  },
  {
   "cell_type": "code",
   "execution_count": null,
   "metadata": {
    "collapsed": true
   },
   "outputs": [],
   "source": [
    "_ = ok.submit()"
   ]
  }
 ],
 "metadata": {
  "kernelspec": {
   "display_name": "Python 2",
   "language": "python",
   "name": "python2"
  },
  "language_info": {
   "codemirror_mode": {
    "name": "ipython",
    "version": 2
   },
   "file_extension": ".py",
   "mimetype": "text/x-python",
   "name": "python",
   "nbconvert_exporter": "python",
   "pygments_lexer": "ipython2",
   "version": "2.7.13"
  }
 },
 "nbformat": 4,
 "nbformat_minor": 2
}
