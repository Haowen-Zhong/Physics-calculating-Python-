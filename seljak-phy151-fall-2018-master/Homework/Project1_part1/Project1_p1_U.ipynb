{
 "cells": [
  {
   "cell_type": "markdown",
   "metadata": {},
   "source": [
    "## Project 1 - Part 1\n",
    "\n",
    "## <em> Fisher Information Matrix</em>\n",
    "<br>\n",
    "This notebook is arranged in cells. Texts are usually written in the markdown cells, and here you can use html tags (make it bold, italic, colored, etc). You can double click on this cell to see the formatting.<br>\n",
    "<br>\n",
    "The ellipsis (...) are provided where you are expected to write your solution but feel free to change the template (not over much) in case this style is not to your taste. <br>\n",
    "<br>\n",
    "<em>Hit \"Shift-Enter\" on a code cell to evaluate it.  Double click a Markdown cell to edit. </em><br>"
   ]
  },
  {
   "cell_type": "markdown",
   "metadata": {},
   "source": [
    "<span style=\"color:blue\"><i> Write your partner's name here (if you have one). </i></span> <br>"
   ]
  },
  {
   "cell_type": "markdown",
   "metadata": {},
   "source": [
    "***\n",
    "### Link Okpy"
   ]
  },
  {
   "cell_type": "code",
   "execution_count": null,
   "metadata": {
    "collapsed": true
   },
   "outputs": [],
   "source": [
    "from client.api.notebook import Notebook\n",
    "ok = Notebook('project1_p1_U.ok')\n",
    "_ = ok.auth(inline = True)"
   ]
  },
  {
   "cell_type": "markdown",
   "metadata": {},
   "source": [
    "### Imports"
   ]
  },
  {
   "cell_type": "code",
   "execution_count": 1,
   "metadata": {},
   "outputs": [],
   "source": [
    "import numpy as np\n",
    "from scipy.integrate import quad\n",
    "#For plotting\n",
    "import matplotlib.pyplot as plt\n",
    "%matplotlib inline"
   ]
  },
  {
   "cell_type": "markdown",
   "metadata": {},
   "source": [
    "***"
   ]
  },
  {
   "cell_type": "markdown",
   "metadata": {},
   "source": [
    "#### Problem 1 - Constraining the cosmological parameters using the Planck power spectrum\n",
    "\n",
    "<i>Planck</i> is the third-generation space telescope, following COBE and WMAP, and it aims to determine the geometry and content of the Universe by observing the cosmic microwave background radiation (CMB), emitted around 380,000 years after the Big Bang. Permeating the whole universe and containing information on the properties of the early Universe, the CMB is widely known as the strongest evidence for the Big Bang model. <br><br>\n",
    "Measuring the spectrum of the CMB, we confirm that it is very close to the radiation from an ideal blackbody, and flunctuations in the spectrum are very small. Averaging ocer all locations, its mean temperature is $2.725K$, and its root mean square temperature fluctuation is $\\langle(\\frac{\\delta T}{T})^2\\rangle^{1/2} = 1.1 \\times 10^{-5}$ (i.e. the temperature of the CMB varies by only ~ 30 $\\mu K$ across the sky). <br>\n",
    "![alt text](Planck.png \"Title\")\n",
    "<br>\n",
    "Suppose you observe the fluctuations $\\delta T/T$. Since we are taking measurements on the surface of a sphere, it is useful to expand $\\delta T/T$ in spherical harmonics (because they form a complete set of orthogonal functions on the sphere):<br>\n",
    "$$ \\frac{\\delta T}{T} (\\theta, \\phi) = \\sum_{l = 0}^{\\infty} \\sum_{m = -l}^{l} \\mathrm{a}_{lm} \\mathrm{Y}_{lm} (\\theta, \\phi) $$\n",
    "<br>\n",
    "In flat space, we can do a Fourier transform of a function $f(x)$ as $\\sum_k \\mathrm{a}_k \\mathrm{e}^{ikx}$ where $k$ is the wavenumber, and $|\\mathrm{a}_k|$ determines the amplitude of the mode. For spherical harmonics, instead of $k$, we have $l$, the number of the modes along a meridian, and $m$, the number of modes along the equator. So $l$ and $m$ determine the wavelength ($\\lambda = 2\\pi/l$) and shape of the mode, respectively.\n",
    "<br><br>\n",
    "In cosmology, we are mostly interested in learning the statistical properties of this map and how different physical effects influence different physical scales, so it is useful to define the correlation function $C(\\theta)$ and split the CMB map into different scales. \n",
    "<br><br>\n",
    "Suppose that we observe $\\delta T/T$ at two different points on the sky. Relative to an observer, they are in direction $\\hat{n}$ and $\\hat{n}'$ and are separated by an angle $\\theta$ given by $cos\\theta = \\hat{n} \\cdot \\hat{n}'$ Then, we can find the correlation function by multiplying together the values of $\\delta T/T$ at the two points and average the product over all points separated by the angle $\\theta$.\n",
    "$$ C(\\theta)^{TT} =  \\Big\\langle \\frac{\\delta T}{T}(\\hat{n})\\frac{\\delta T}{T}(\\hat{n}') \\Big\\rangle_{\\hat{n} \\cdot \\hat{n}' = cos\\theta}$$\n",
    "<br><br>\n",
    "The above expression is specific to the temperature fluctuations, but we can also do a similar analysis for the polarization map of the CMB. (The CMB is polarized because it was scattered off of free electrons during decoupling.) We decompose the polarization pattern in the sky into a curl-free \"E-mode\" and grad-free \"B-mode.\" \n",
    "<br><br>\n",
    "However, the CMB measurements (limited by the experiment resolution and the patch of sky examined) tell us about $C(\\theta)$ over only a limited range of angular scales. (i.e. the precise values of $C(\\theta)$ for all angles from $\\theta = 0$ to $\\theta = 180^\\circ$ is not known.) Hence, using the expansion of $\\delta T/T$ in spherical harmonics, we write the correlation function as:\n",
    "$$ C(\\theta) = \\frac{1}{4\\pi}\\sum_{l=0}^\\infty (2l+1) C_l P_l(cos\\theta) $$\n",
    "where $P_l$ are the Legendre polynomials.\n",
    "<br><br>\n",
    "So we break down the correlation function into its multipole moments $C_l$, which is the angular power spectrum of the CMB.\n",
    "![alt text](multipoles.png \"Title\")\n",
    "<br><br>\n",
    "Remember that $\\lambda = 2\\pi/l$. So $C_l$ measures the amplitude as a function of wavelength. ($C_l = \\frac{1}{2l+1}\\sum_{m = -l}^l |\\mathrm{a}_{lm}|^2$). In this problem, we will consider the temperature power spectrum $C_l^{TT}$, the E-mode power spectrum $C_l^{EE} = \\frac{1}{2l+1}\\sum_{m = -l}^l |\\mathrm{a}_{lm}^E|^2$, and the temperature-polarization cross-correlation $C_l^{TE} = \\frac{1}{2l+1}\\sum_{m = -l}^l \\mathrm{a}_{lm}^{T*} \\mathrm{a}_{lm}^E$. \n",
    "<br><br>\n",
    "THe CMB angular power spectrum is usually expressed in terms of $D_l = l(l+1)C_l/2\\pi$ (in unit of $\\mu K^2$) because this better shows the contribution toward the variance of the temperature fluctuations.\n",
    "<br><br>\n",
    "Cosmologists built a software called \"cosmological boltzmann code\" which computes the theoretical power spectrum given cosmological parameters, such as the Hubble constant and the baryon density. Therefore, we can fit the theory power spectrum to the measured one in order to obtain the best-fit parameters.\n",
    "<br><br>\n",
    "Here, we consider six selected cosmological parameters, $\\vec{\\theta} = [\\theta_1, \\theta_2, ..., \\theta_6] = [H_0, \\Omega_b h^2, \\Omega_c h^2, n_s, A_s, \\tau]$. ($H_0$ = Hubble constant, $\\Omega_b h^2$ = physical baryon density parameter, $\\Omega_c h^2$ = physical cold dark matter density parameter, $n_s$ = scalar spectral index, $A_s$ = curvature fluctuation amplitude, $\\tau$ = reionization optical depth.). We provide you with the measured CMB power spectra from Planck Data Release 2.\n",
    "<br><br>\n",
    "<i>References</i> :\n",
    "<br>\n",
    "Intro to Cosmology, Barbara Ryden\n",
    "<br>\n",
    "http://folk.uio.no/hke/AST5220/v11/AST5220_2_2011.pdf\n",
    "<br>\n",
    "http://cosmology.berkeley.edu/~yuki/CMBpol/"
   ]
  },
  {
   "cell_type": "markdown",
   "metadata": {
    "collapsed": true
   },
   "source": [
    "***"
   ]
  },
  {
   "cell_type": "markdown",
   "metadata": {},
   "source": [
    "#### Problem - Fisher prediction for future CMB surveys\n",
    "\n",
    "In class, we learned that the Fisher information matrix is useful for designing an experiment; we can vary the experiment design and predict the level of the expected error on any given parameter. In this problem, we aim to determine how well a low-noise, high-resolution future CMB survey would do in constraining the cosmological parameters.\n",
    "<br><br>\n",
    "The Fisher matrix is defined as the ensemble average of the Hessian of the log-likelihood ($\\ln\\mathcal{L}$) with respect to the given parameters $\\vec{\\theta}$:\n",
    "<br><br>\n",
    "$$ F_{ij} = -\\left\\langle\\frac{\\partial^{2}\\ln\\mathcal{L}}{\\partial\\theta_i\\ \\partial\\theta_j}\\right\\rangle $$\n",
    "<br><br>\n",
    "Here we take the model CMB power spectrum as our observables. (Here we consider the auto-correlations $D_l^{TT}, D_l^{EE}$ and cross-correlation $D_l^{TE}$ obtained from the boltzmann code using the best-fit cosmological parameters from Planck, https://arxiv.org/pdf/1502.01589v3.pdf.) Then, we can estimate the Fisher matrix between two parameters $\\theta_i$ and $\\theta_j$ as:\n",
    "<br><br>\n",
    "$$ F_{ij} = \\sum_{l} \\sum_{k}\\frac{1}{(\\sigma_l^k)^2}\\frac{\\partial D^{k}_{\\ell}}{\\partial\\theta_i}\\frac{\\partial D^{k}_{\\ell}}{\\partial\\theta_j} $$\n",
    "<br><br>\n",
    "where we sum over the CMB auto- and cross-power spectra $D_l^k = [D_l^{0}, D_l^{1}, D_l^{2}] = [D_l^{TT}, D_l^{EE}, D_l^{TE}]$, and we assume that there is no correlation between them. $\\sigma^2$ is the variance of $D_l$ and noise:\n",
    "<br><br>\n",
    "$$ (\\sigma_l^k)^2 = \\frac{2}{(2l+1) \\cdot f_{sky} \\cdot \\Delta l}(D_l^k + N_l^k)^2 $$\n",
    "<br><br>\n",
    "In Part 1 and 2, we provide you with the model power spectra ($D_l$), its derivative with respect to the parameter $\\theta$ ($\\frac{\\partial D_l}{\\partial\\theta}$), and the measurement error $\\sigma_l$ for the current Planck survey. In Part 3 and 4, you assume a zero-noise futuristic survey, so you need to compute new measurement error $\\sigma_l$ assuming $N_l = 0$.\n",
    "<br><br>\n",
    "$f_{sky}$ is the fraction of the sky covered by the survey. Assume that $f_{sky} = 1$ for the sake of simplicity. $\\Delta l$ is the size of $l$-bin. Here, we set $l_{min} = 2, l_{max} = 2000$, and we have 92 $l$-bins in this range (For $2 \\leq l < 30$, the power spectra are not binned ($\\Delta l = 1$), and for $30 \\leq l < 2000$, they are binned, and the bin size is $\\Delta l = 30$). We obtain the measured and model power spectrum in that 92 $l$-bins. In this problem, first take the noise from Planck. We provide you with $\\sigma_l$ for $D_l^{TT}, D_l^{EE}, D_l^{TE}$ from Planck.\n",
    "<br><br>\n",
    "Finally, we can obtain the covariance matrix $C$ by inverting the Fisher matrix $F$:\n",
    "$$ [C] = [F]^{-1} $$\n",
    "<br><br>\n",
    "<i>References:</i><br>\n",
    "Fisher Matrix Forecasting Review, Nicholas Kern <br>\n",
    "https://arxiv.org/pdf/0906.4123.pdf\n",
    "<br><br>\n",
    "<span style=\"color:blue\"> <i> 1. First, load the measurement errors ($\\sigma_l^{TT}, \\sigma_l^{EE}, \\sigma_l^{TE}$), model power spectrum ($D_l^{TT}, D_l^{EE}, D_l^{TE}$) and their derivatives with respect to six cosmological parameters evaluated at the best-fit values from Planck ($\\frac{\\partial D_l^{TT}}{\\partial H_0}\\Big\\vert_{\\vec{\\theta} = \\vec{\\theta}_{best-fit}}$, $\\frac{\\partial D_l^{TT}}{\\partial \\Omega_bh^2}\\Big\\vert_{\\vec{\\theta} = \\vec{\\theta}_{best-fit}}$, etc). With the measurement errors from Planck, construct the Fisher matrix and the covariance matrix (you can use the numpy.linalg.inv for the matrix inversion). Evaluate the constraints on six parameters $\\sigma(H_0), \\sigma(\\Omega_bh^2), ... , \\sigma(\\tau)$ (corresponding to the square root of the diagonal entries of the covariance matrix). Print the results. </i></span>"
   ]
  },
  {
   "cell_type": "code",
   "execution_count": 2,
   "metadata": {},
   "outputs": [],
   "source": [
    "# Load data\n",
    "\n",
    "# Best-fit values of the cosmological parameters from https://arxiv.org/pdf/1502.01589v3.pdf\n",
    "H0     = 67.27\n",
    "ombh2  = 0.02225\n",
    "omch2  = 0.1198\n",
    "ns     = 0.9645\n",
    "As     = 2.2065e-9\n",
    "tau    = 0.079\n",
    "\n",
    "theta_best_Planck = np.array([H0, ombh2, omch2, ns, As, tau])\n",
    "\n",
    "\n",
    "# Planck noise\n",
    "\n",
    "# sigma_l for D_l^EE\n",
    "data = np.loadtxt(\"Project1_EE_measured.dat\")\n",
    "# l (same for all power spectrum)\n",
    "ell = data[:,0]\n",
    "# and error\n",
    "error_EE = data[:,2]\n",
    "\n",
    "# sigma_l for D_l^TT\n",
    "data = np.loadtxt(\"Project1_TT_measured.dat\")\n",
    "# and error\n",
    "error_TT = data[:,2]\n",
    "\n",
    "# sigma_l for D_l^TE\n",
    "data = np.loadtxt(\"Project1_TE_measured.dat\")\n",
    "# and error\n",
    "error_TE = data[:,2]\n",
    "\n",
    "\n",
    "# Model power spectra given theta_best_Planck (calculated at the same ell bins as the measured power spectrum)\n",
    "\n",
    "# D_l^EE (model)\n",
    "data = np.loadtxt(\"Project1_EE_model_at_theta_best_Planck.dat\")\n",
    "EE_model_Planck = data[:,1]\n",
    "\n",
    "# D_l^TT (model)\n",
    "data = np.loadtxt(\"Project1_TT_model_at_theta_best_Planck.dat\")\n",
    "TT_model_Planck = data[:,1]\n",
    "\n",
    "# D_l^TE (model)\n",
    "data = np.loadtxt(\"Project1_TE_model_at_theta_best_Planck.dat\")\n",
    "TE_model_Planck = data[:,1]\n",
    "\n",
    "\n",
    "# Derivative of the power spectrum given theta_best_Planck (calculated at the same ell bins as the measured power spectrum)\n",
    "\n",
    "# Derivative of D_l^EE with respect to six parameters \n",
    "# ([theta1, theta2, theta3, theta4, theta5, theta6] = [H_0, \\Omega_b h^2, \\Omega_c h^2, n_s, A_s, \\tau])\n",
    "data = np.loadtxt(\"Project1_derivative_EE_at_theta_best_Planck.dat\")\n",
    "deriv_DlEE_theta1 = data[:,1]\n",
    "deriv_DlEE_theta2 = data[:,2]\n",
    "deriv_DlEE_theta3 = data[:,3]\n",
    "deriv_DlEE_theta4 = data[:,4]\n",
    "deriv_DlEE_theta5 = data[:,5]\n",
    "deriv_DlEE_theta6 = data[:,6]\n",
    "\n",
    "# Derivative of D_l^TT with respect to six parameters \n",
    "data = np.loadtxt(\"Project1_derivative_TT_at_theta_best_Planck.dat\")\n",
    "deriv_DlTT_theta1 = data[:,1]\n",
    "deriv_DlTT_theta2 = data[:,2]\n",
    "deriv_DlTT_theta3 = data[:,3]\n",
    "deriv_DlTT_theta4 = data[:,4]\n",
    "deriv_DlTT_theta5 = data[:,5]\n",
    "deriv_DlTT_theta6 = data[:,6]\n",
    "\n",
    "# Derivative of D_l^TE with respect to six parameters \n",
    "data = np.loadtxt(\"Project1_derivative_TE_at_theta_best_Planck.dat\")\n",
    "deriv_DlTE_theta1 = data[:,1]\n",
    "deriv_DlTE_theta2 = data[:,2]\n",
    "deriv_DlTE_theta3 = data[:,3]\n",
    "deriv_DlTE_theta4 = data[:,4]\n",
    "deriv_DlTE_theta5 = data[:,5]\n",
    "deriv_DlTE_theta6 = data[:,6]"
   ]
  },
  {
   "cell_type": "code",
   "execution_count": null,
   "metadata": {},
   "outputs": [],
   "source": [
    "..."
   ]
  },
  {
   "cell_type": "code",
   "execution_count": null,
   "metadata": {},
   "outputs": [],
   "source": [
    "print('1-d constraints:')\n",
    "print( 'H0 = %.2f +/- %.2f' % (..., ...), '\\nOmega_b h^2 = %.5f +/- %.5f' % (..., ...), '\\nOmega_c h^2 = %.4f +/- %.4f' % (..., ...), '\\nn_s = %.4f +/- %.4f' % (..., ...), '\\n10^9A_s = ', (..., ...), '+/-', (..., ...), '\\ntau = %.5f +/- %.5f' % (..., ...) )"
   ]
  },
  {
   "cell_type": "markdown",
   "metadata": {},
   "source": [
    "Now from the covariance matrix, we can plot 1-d and 2-d constraints on the parameters. (See Fig. 6 in Planck 2015 paper https://arxiv.org/pdf/1502.01589v3.pdf)\n",
    "<br><br>\n",
    "<b>1-d constraint</b> (corresponding to the plots along the diagonal in Fig. 6, Planck 2015 paper): <br><br>\n",
    "First, the $i$th diagonal element of the covariance matrix correspond to $\\sigma({\\theta_i})^2$. Then, we can plot 1-d constraints on the parameter $\\theta_i$ assuming a normal distribution with mean = $(\\vec{\\theta}_{best-fit})_i$ and variance = $\\sigma({\\theta_i})^2$.\n",
    "<br><br>\n",
    "<b>2-d constraint</b> (off-diagonal plots in Fig. 6, Planck 2015 paper): <br><br>\n",
    "Consider two parameters $\\theta_i$ and $\\theta_j$ from $\\vec{\\theta}$. Now marginalize over other parameters - in order to marginalize over other parameters, you can simply remove those parameters' row and column from the full covariance matrix. (i.e. From the full covariance matrix, you know the variance of all six parameters and their covariances with each other. So build a smaller dimension - 2 x 2 - covariance matrix from this.) - and obtain a $2\\times2$ covariance matrix:\n",
    "<br><br>\n",
    "$$ \\mathrm{C_{ij}} =  \\binom{\\sigma({\\theta_i})^2\\ \\ \\ \\ \\ \\ \\mathrm{Cov}({\\theta_i, \\theta_j})}{\\mathrm{Cov}({\\theta_i, \\theta_j}) \\ \\ \\ \\ \\ \\ \\sigma({\\theta_j})^2} $$\n",
    "<br>\n",
    "Now, we can plot the 2-dimensional confidence region ellipses from this matrix. The lengths of the ellipse axes are the square root of the eigenvalues of the covariance matrix, and we can calculate the counter-clockwise rotation of the ellipse with the rotation angle:\n",
    "<br><br>\n",
    "$$ \\phi = \\frac{1}{2} \\mathrm{arctan}\\Big( \\frac{2\\cdot \\mathrm{Cov}(\\theta_i, \\theta_j)}{\\sigma({\\theta_i})^2-\\sigma({\\theta_j})^2} \\Big) = \\mathrm{arctan}(\\frac{\\vec{v_1}(y)}{\\vec{v_1}(x)}) $$\n",
    "<br>\n",
    "where $\\vec{v_1}$ is the eigenvector with the largest eigenvalue. So we calculate the angle of the largest eigenvector towards the x-axis to obtain the orientation of the ellipse. <br><br> \n",
    "Then, we multiply the axis lengths by some factor depending on the confidence level we are interested in. For 68%, this scale factor is $\\sqrt{\\Delta \\chi^2} \\approx 1.52$. For 95%, it is $\\sqrt{\\Delta \\chi^2} \\approx 2.48$.\n",
    "<br><br>\n",
    "Hint: For plotting ellipses, see HW4 Problem 1 Part 7.\n",
    "\n",
    "<span style=\"color:blue\"> <i> 2. From the covariance matrix, plot 1-d and 2-d constraints on the parameters. Note that the best-fit values of six parameters are alrady given in Part 1 (we just use the values from the Planck paper). For 2-d plot, show 68% and 95% confidence ellipses for pairs of parameters. You can arrange those subplots in a triangle shape, as in Fig. 6, Planck 2015 (https://arxiv.org/pdf/1502.01589v3.pdf). </i></span> <br>"
   ]
  },
  {
   "cell_type": "code",
   "execution_count": null,
   "metadata": {
    "collapsed": true
   },
   "outputs": [],
   "source": [
    "# Triangle Plot (Original skeleton code by Nicholas Kern)\n",
    "# Only a suggestion. You can create your own if you wish.\n",
    "\n",
    "fig, axes = plt.subplots(6,6,figsize=(12,12))\n",
    "fig.subplots_adjust(wspace=0, hspace=0)\n",
    "\n",
    "p_tex = np.array([r'$H_0$', r'$\\Omega_bh^2$',r'$\\Omega_ch^2$',r'$n_s$',r'$10^9 A_s$',r'$\\tau$'])\n",
    "\n",
    "for i in range(6):\n",
    "    for j in range(6):\n",
    "        ax = axes[i, j]\n",
    "        if j > i:\n",
    "            ax.axis('off')\n",
    "            continue\n",
    "        elif i == j:\n",
    "            # diagonal part\n",
    "            ax.grid(True)\n",
    "            xarr = ...\n",
    "            yarr = ...\n",
    "            ax.plot(...)\n",
    "            ax.set_xlim(...)\n",
    "            ax.set_xticks(...)\n",
    "            ax.set_yticklabels([])\n",
    "            ax.set_xticklabels([])\n",
    "        else:\n",
    "            # off-diagonal part\n",
    "            ax.grid(True)\n",
    "            \n",
    "            # Covariance matrix\n",
    "            CovM = ...\n",
    "            \n",
    "            # Get eigenvalue/vector using svd\n",
    "            eigvec, eigval, u = np.linalg.svd(CovM)\n",
    "\n",
    "            # Get Semimajor/minor axes of the ellipse\n",
    "            semimaj = np.sqrt(eigval[0])*2.\n",
    "            semimin = np.sqrt(eigval[1])*2.\n",
    "\n",
    "            # Rotation angle of the ellipse\n",
    "            theta = np.arctan(eigvec[0][1]/eigvec[0][0])\n",
    "\n",
    "            # Create ellipses\n",
    "            ell = mpl.patches.Ellipse(xy=[...], width=1.52*semimaj, height=1.52*semimin, angle = theta*180/np.pi, facecolor = 'dodgerblue', edgecolor = 'royalblue', label = '68% confidence')\n",
    "            ell2 = mpl.patches.Ellipse(xy=[...], width=2.48*semimaj, height=2.48*semimin, angle = theta*180/np.pi, facecolor = 'skyblue', edgecolor = 'royalblue', label = '95% confidence')\n",
    "\n",
    "            ax.add_patch(ell2)\n",
    "            ax.add_patch(ell)\n",
    "            \n",
    "            ax.set_ylim(...)\n",
    "            ax.set_xlim(...)\n",
    "            ax.set_xticks(...)\n",
    "            ax.set_yticks(...)\n",
    "\n",
    "            \n",
    "        if j != 0:\n",
    "            ax.set_yticklabels([])\n",
    "        if i != 5:\n",
    "            ax.set_xticklabels([])\n",
    "        if j == 0 and i !=0:\n",
    "            ax.set_ylabel(p_tex[i], fontsize=10)\n",
    "            ax.set_yticklabels(...)\n",
    "            [tl.set_rotation(26) for tl in ax.get_yticklabels()]\n",
    "        if i == 5:\n",
    "            ax.set_xlabel(p_tex[j], fontsize=10)\n",
    "            ax.set_xticklabels(...)\n",
    "            [tl.set_rotation(26) for tl in ax.get_xticklabels()]\n",
    "    "
   ]
  },
  {
   "cell_type": "markdown",
   "metadata": {},
   "source": [
    "Now, assume that we have an ideal, zero-noise CMB survey with $N_l = 0$. However, we are still instrinsically limited on the number of independent modes we can measure (there are only (2l+1) of them) - $C_l = \\frac{1}{2l+1}\\sum_{m=-l}^{l}\\langle|a_{lm}|^2\\rangle$. This leads that we get an instrinsic error (called \"cosmic variance\") in our estimate of $C_l$. So we approximate that <br><br> $$ (\\sigma_l^{EE})^2 = \\frac{2}{(2l+1) \\cdot f_{sky} \\cdot \\Delta l}(D_l^{EE})^2,\\ \\ (\\sigma_l^{TT})^2 = \\frac{2}{(2l+1) \\cdot f_{sky} \\cdot \\Delta l}(D_l^{TT})^2,$$ <br> $$ (\\sigma_l^{TE})^2 = \\frac{2}{(2l+1) \\cdot f_{sky} \\cdot \\Delta l}\\frac{(D_l^{TE})^2 + D_l^{TT}D_l^{EE}}{2} $$.\n",
    "<br><br>\n",
    "\n",
    "<span style=\"color:blue\"> <i> 3. Repeat Part 1 and 2 assuming $N_l^k = 0$. (How well does a zero-noise CMB survey constrain the cosmologial parameters?) </i></span> <br>"
   ]
  },
  {
   "cell_type": "code",
   "execution_count": null,
   "metadata": {
    "collapsed": true
   },
   "outputs": [],
   "source": [
    "..."
   ]
  },
  {
   "cell_type": "markdown",
   "metadata": {},
   "source": [
    "\n",
    "<span style=\"color:blue\"><i> 4. Combine Part 2 and Part 3 and compare. (First plot your results from Part 2 (1-d and 2-d constraints using the Planck power spectra and noise. Then, plot Part 3 results (assuming zero noise) on top with different colors. Note that your 1-d constrains in Part 3 are more sharply peaked Gaussians (with much smaller variances), so you can scale them so that its peak amplitudes match with your results from Part 2.) </i></span><br>\n"
   ]
  },
  {
   "cell_type": "code",
   "execution_count": null,
   "metadata": {
    "collapsed": true
   },
   "outputs": [],
   "source": [
    "..."
   ]
  },
  {
   "cell_type": "markdown",
   "metadata": {},
   "source": [
    "\n",
    "<span style=\"color:blue\"><i> 5. Starting from the best-fit values from the Planck 2015 paper, you constrained six cosmological parameters assuming that you have a zero-noise future CMB survey. Compare your results with Table 3 and Figure 6 in https://arxiv.org/pdf/1502.01589v3.pdf. </i></span><br>\n"
   ]
  },
  {
   "cell_type": "markdown",
   "metadata": {
    "collapsed": true
   },
   "source": [
    "<span style=\"color:blue\"> <i> Answer: </i></span><br><br>"
   ]
  },
  {
   "cell_type": "markdown",
   "metadata": {},
   "source": [
    "***"
   ]
  },
  {
   "cell_type": "markdown",
   "metadata": {},
   "source": [
    "## To Submit\n",
    "Execute the following cell to submit.\n",
    "If you make changes, execute the cell again to resubmit the final copy of the notebook, they do not get updated automatically.<br>\n",
    "__We recommend that all the above cells should be executed (their output visible) in the notebook at the time of submission.__ <br>\n",
    "Only the final submission before the deadline will be graded. \n"
   ]
  },
  {
   "cell_type": "code",
   "execution_count": null,
   "metadata": {
    "collapsed": true
   },
   "outputs": [],
   "source": [
    "_ = ok.submit()"
   ]
  }
 ],
 "metadata": {
  "kernelspec": {
   "display_name": "Python 3",
   "language": "python",
   "name": "python3"
  },
  "language_info": {
   "codemirror_mode": {
    "name": "ipython",
    "version": 3
   },
   "file_extension": ".py",
   "mimetype": "text/x-python",
   "name": "python",
   "nbconvert_exporter": "python",
   "pygments_lexer": "ipython3",
   "version": "3.6.4"
  }
 },
 "nbformat": 4,
 "nbformat_minor": 2
}
