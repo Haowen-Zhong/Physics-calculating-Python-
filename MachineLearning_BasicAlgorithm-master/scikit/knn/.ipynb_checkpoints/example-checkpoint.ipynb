{
 "cells": [
  {
   "cell_type": "code",
   "execution_count": 1,
   "metadata": {
    "collapsed": true
   },
   "outputs": [],
   "source": [
    "%matplotlib inline\n",
    "import matplotlib.pyplot as plt\n",
    "import numpy as np\n",
    "import pandas as pd"
   ]
  },
  {
   "cell_type": "markdown",
   "metadata": {},
   "source": [
    "## knn的模型选择"
   ]
  },
  {
   "cell_type": "code",
   "execution_count": 2,
   "metadata": {},
   "outputs": [
    {
     "name": "stdout",
     "output_type": "stream",
     "text": [
      "dataset shape (768, 9)\n"
     ]
    },
    {
     "data": {
      "text/html": [
       "<div>\n",
       "<style scoped>\n",
       "    .dataframe tbody tr th:only-of-type {\n",
       "        vertical-align: middle;\n",
       "    }\n",
       "\n",
       "    .dataframe tbody tr th {\n",
       "        vertical-align: top;\n",
       "    }\n",
       "\n",
       "    .dataframe thead th {\n",
       "        text-align: right;\n",
       "    }\n",
       "</style>\n",
       "<table border=\"1\" class=\"dataframe\">\n",
       "  <thead>\n",
       "    <tr style=\"text-align: right;\">\n",
       "      <th></th>\n",
       "      <th>Pregnancies</th>\n",
       "      <th>Glucose</th>\n",
       "      <th>BloodPressure</th>\n",
       "      <th>SkinThickness</th>\n",
       "      <th>Insulin</th>\n",
       "      <th>BMI</th>\n",
       "      <th>DiabetesPedigreeFunction</th>\n",
       "      <th>Age</th>\n",
       "      <th>Outcome</th>\n",
       "    </tr>\n",
       "  </thead>\n",
       "  <tbody>\n",
       "    <tr>\n",
       "      <th>0</th>\n",
       "      <td>6</td>\n",
       "      <td>148</td>\n",
       "      <td>72</td>\n",
       "      <td>35</td>\n",
       "      <td>0</td>\n",
       "      <td>33.6</td>\n",
       "      <td>0.627</td>\n",
       "      <td>50</td>\n",
       "      <td>1</td>\n",
       "    </tr>\n",
       "    <tr>\n",
       "      <th>1</th>\n",
       "      <td>1</td>\n",
       "      <td>85</td>\n",
       "      <td>66</td>\n",
       "      <td>29</td>\n",
       "      <td>0</td>\n",
       "      <td>26.6</td>\n",
       "      <td>0.351</td>\n",
       "      <td>31</td>\n",
       "      <td>0</td>\n",
       "    </tr>\n",
       "    <tr>\n",
       "      <th>2</th>\n",
       "      <td>8</td>\n",
       "      <td>183</td>\n",
       "      <td>64</td>\n",
       "      <td>0</td>\n",
       "      <td>0</td>\n",
       "      <td>23.3</td>\n",
       "      <td>0.672</td>\n",
       "      <td>32</td>\n",
       "      <td>1</td>\n",
       "    </tr>\n",
       "    <tr>\n",
       "      <th>3</th>\n",
       "      <td>1</td>\n",
       "      <td>89</td>\n",
       "      <td>66</td>\n",
       "      <td>23</td>\n",
       "      <td>94</td>\n",
       "      <td>28.1</td>\n",
       "      <td>0.167</td>\n",
       "      <td>21</td>\n",
       "      <td>0</td>\n",
       "    </tr>\n",
       "    <tr>\n",
       "      <th>4</th>\n",
       "      <td>0</td>\n",
       "      <td>137</td>\n",
       "      <td>40</td>\n",
       "      <td>35</td>\n",
       "      <td>168</td>\n",
       "      <td>43.1</td>\n",
       "      <td>2.288</td>\n",
       "      <td>33</td>\n",
       "      <td>1</td>\n",
       "    </tr>\n",
       "  </tbody>\n",
       "</table>\n",
       "</div>"
      ],
      "text/plain": [
       "   Pregnancies  Glucose  BloodPressure  SkinThickness  Insulin   BMI  \\\n",
       "0            6      148             72             35        0  33.6   \n",
       "1            1       85             66             29        0  26.6   \n",
       "2            8      183             64              0        0  23.3   \n",
       "3            1       89             66             23       94  28.1   \n",
       "4            0      137             40             35      168  43.1   \n",
       "\n",
       "   DiabetesPedigreeFunction  Age  Outcome  \n",
       "0                     0.627   50        1  \n",
       "1                     0.351   31        0  \n",
       "2                     0.672   32        1  \n",
       "3                     0.167   21        0  \n",
       "4                     2.288   33        1  "
      ]
     },
     "execution_count": 2,
     "metadata": {},
     "output_type": "execute_result"
    }
   ],
   "source": [
    "# 加载数据（使用 pandas 加载数据）\n",
    "data = pd.read_csv('datasets/pima-indians-diabetes/diabetes.csv')\n",
    "print('dataset shape {}'.format(data.shape))\n",
    "data.head()"
   ]
  },
  {
   "cell_type": "code",
   "execution_count": 3,
   "metadata": {
    "collapsed": true
   },
   "outputs": [],
   "source": [
    "#从输出可以看到，总共有768个样本、8个特征，其中 Outcome 为标记值，0表示没有糖尿病，1表示有糖尿病。这8个特征分别如下。\n",
    "#Pregnancies：怀孕的次数。\n",
    "#Glucose：血浆葡萄糖浓度，采用2小时口服葡萄糖耐量试验测得。\n",
    "#BloodPressure：舒张压（毫米汞柱）。\n",
    "#SkinThickness：肱三头肌皮肤褶皱厚度（毫米）。\n",
    "#Insulin：两个小时血清胰岛素（μU/毫升）。\n",
    "#BMI：身体质量指数，体重除以身高的平方。\n",
    "#Diabetes Pedigree Function：糖尿病血统指数，糖尿病和家庭遗传相关。\n",
    "#Age：年龄。Diabetes Pedigree Function\n",
    "#我们可以进一步观察数据集里阳性和阴性样本的个数："
   ]
  },
  {
   "cell_type": "code",
   "execution_count": 4,
   "metadata": {},
   "outputs": [
    {
     "data": {
      "text/plain": [
       "Outcome\n",
       "0    500\n",
       "1    268\n",
       "dtype: int64"
      ]
     },
     "execution_count": 4,
     "metadata": {},
     "output_type": "execute_result"
    }
   ],
   "source": [
    "data.groupby(\"Outcome\").size()"
   ]
  },
  {
   "cell_type": "code",
   "execution_count": 5,
   "metadata": {
    "collapsed": true
   },
   "outputs": [],
   "source": [
    "#其中阴性样本500例，阳性样本268例。\n",
    "#接着，需要对数据集进行简单处理，把8个特征值分离出来，作为训练数据集，把 Outcome 列分离出来作为目标值。\n",
    "#然后，把数据集划分为训练数据集和测试数据集。"
   ]
  },
  {
   "cell_type": "code",
   "execution_count": 6,
   "metadata": {},
   "outputs": [
    {
     "name": "stdout",
     "output_type": "stream",
     "text": [
      "shape of X (768, 8); shape of Y (768,)\n"
     ]
    }
   ],
   "source": [
    "X = data.iloc[:, 0:8]\n",
    "Y = data.iloc[:, 8]\n",
    "print('shape of X {}; shape of Y {}'.format(X.shape, Y.shape))"
   ]
  },
  {
   "cell_type": "code",
   "execution_count": 7,
   "metadata": {
    "collapsed": true
   },
   "outputs": [],
   "source": [
    "from sklearn.model_selection import train_test_split\n",
    "X_train, X_test, Y_train, Y_test = train_test_split(X, Y, test_size=0.2);"
   ]
  },
  {
   "cell_type": "code",
   "execution_count": 8,
   "metadata": {
    "collapsed": true
   },
   "outputs": [],
   "source": [
    "#这里我们只用knn模型比较\n",
    "#使用普通的 k-均值算法、带权重的 k-均值算法以及指定半径的 k-均值算法分别对数据集进行拟合并计算评分："
   ]
  },
  {
   "cell_type": "code",
   "execution_count": 9,
   "metadata": {
    "collapsed": true
   },
   "outputs": [],
   "source": [
    "## 构造3个模型\n",
    "from sklearn.neighbors import KNeighborsClassifier, RadiusNeighborsClassifier\n",
    "\n",
    "models = []\n",
    "models.append((\"KNN\", KNeighborsClassifier(n_neighbors=2)))\n",
    "models.append((\"KNN with weights\", KNeighborsClassifier(\n",
    "    n_neighbors=2, weights=\"distance\")))\n",
    "models.append((\"Radius Neighbors\", RadiusNeighborsClassifier(\n",
    "    n_neighbors=2, radius=500.0)))"
   ]
  },
  {
   "cell_type": "code",
   "execution_count": 11,
   "metadata": {},
   "outputs": [
    {
     "name": "stdout",
     "output_type": "stream",
     "text": [
      "name: KNN; score: 0.6688311688311688\n",
      "name: KNN with weights; score: 0.6168831168831169\n",
      "name: Radius Neighbors; score: 0.5974025974025974\n"
     ]
    }
   ],
   "source": [
    "# 分别训练3个模型，并计算评分\n",
    "results = []\n",
    "for name, model in models:\n",
    "    model.fit(X_train, Y_train)\n",
    "    results.append((name, model.score(X_test, Y_test)))\n",
    "for i in range(len(results)):\n",
    "    print(\"name: {}; score: {}\".format(results[i][0],results[i][1]))"
   ]
  },
  {
   "cell_type": "code",
   "execution_count": 12,
   "metadata": {
    "collapsed": true
   },
   "outputs": [],
   "source": [
    "#权重算法，我们选择了距离越近，权重越高。\n",
    "#RadiusNeighborsClassifier 模型的半径，选择了500。从输出可以看出，普通的 k-均值算法性能还是最好。\n",
    "#问题来了，这个判断准确么？答案是不准确。\n",
    "#因为我们的训练样本和测试样本是随机分配的，不同的训练样本和测试样本组合可能导致计算出来的算法准确性是有差异的。\n",
    "#我们可以试着多次运行示例代码，观察一下输出值是否有变化。\n",
    "#怎么样更准确地对比算法准确性呢？一个方法是，多次随机分配训练数据集和交叉验证数据集，然后求模型准确性评分的平均值。\n",
    "#所幸，我们不需要从头实现这个过程，scikit-learn 提供了 KFold 和 cross_val_score（）函数来处理这种问题："
   ]
  },
  {
   "cell_type": "code",
   "execution_count": 13,
   "metadata": {},
   "outputs": [
    {
     "name": "stdout",
     "output_type": "stream",
     "text": [
      "name: KNN; cross val score: 0.7147641831852358\n",
      "name: KNN with weights; cross val score: 0.6770505809979495\n",
      "name: Radius Neighbors; cross val score: 0.6497265892002735\n"
     ]
    }
   ],
   "source": [
    "from sklearn.model_selection import KFold\n",
    "from sklearn.model_selection import cross_val_score\n",
    "\n",
    "results = []\n",
    "for name, model in models:\n",
    "    kfold = KFold(n_splits=10)\n",
    "    cv_result = cross_val_score(model, X, Y, cv=kfold)\n",
    "    results.append((name, cv_result))\n",
    "for i in range(len(results)):\n",
    "    print(\"name: {}; cross val score: {}\".format(\n",
    "        results[i][0],results[i][1].mean()))"
   ]
  },
  {
   "cell_type": "code",
   "execution_count": 14,
   "metadata": {
    "collapsed": true
   },
   "outputs": [],
   "source": [
    "#上述代码中，我们通过 KFold 把数据集分成10份，其中1份会作为交叉验证数据集来计算模型准确性，剩余的9份作为训练数据集。\n",
    "#cross_val_score（）函数总共计算出10次不同训练数据集和交叉验证数据集组合得到的模型准确性评分，最后求平均值。这样的评价结果相对更准确一些。"
   ]
  },
  {
   "cell_type": "markdown",
   "metadata": {},
   "source": [
    "## 模型训练及分析"
   ]
  },
  {
   "cell_type": "code",
   "execution_count": 16,
   "metadata": {
    "collapsed": true
   },
   "outputs": [],
   "source": [
    "#从上面的结果看出来，还是普通的 k-均值算法性能更优一些。\n",
    "#接下来，我们就使用普通的 k-均值算法模型对数据集进行训练，\n",
    "#并查看对训练样本的拟合情况以及对测试样本的预测准确性情况："
   ]
  },
  {
   "cell_type": "code",
   "execution_count": 19,
   "metadata": {},
   "outputs": [
    {
     "name": "stdout",
     "output_type": "stream",
     "text": [
      "train score: 0.8403908794788274; test score: 0.6688311688311688\n"
     ]
    }
   ],
   "source": [
    "knn = KNeighborsClassifier(n_neighbors=2)\n",
    "knn.fit(X_train, Y_train)\n",
    "train_score = knn.score(X_train, Y_train)\n",
    "test_score = knn.score(X_test, Y_test)\n",
    "print(\"train score: {}; test score: {}\".format(train_score, test_score))"
   ]
  },
  {
   "cell_type": "code",
   "execution_count": 20,
   "metadata": {
    "collapsed": true
   },
   "outputs": [],
   "source": [
    "#从这个输出中可以看到两个问题。\n",
    "#一是对训练样本的拟合情况不佳，评分才0.84多一些，这说明算法模型太简单了，无法很好地拟合训练样本。\n",
    "#二是模型的准确性欠佳，不到67%的预测准确性。我们可以进一步画出学习曲线，证实结论。"
   ]
  },
  {
   "cell_type": "code",
   "execution_count": 22,
   "metadata": {},
   "outputs": [
    {
     "data": {
      "image/png": "[encoded data removed]",
      "text/plain": [
       "<matplotlib.figure.Figure at 0x1f0dea81e10>"
      ]
     },
     "metadata": {},
     "output_type": "display_data"
    }
   ],
   "source": [
    "from sklearn.model_selection import ShuffleSplit\n",
    "from common.utils import plot_learning_curve\n",
    "\n",
    "knn = KNeighborsClassifier(n_neighbors=2)\n",
    "cv = ShuffleSplit(n_splits=10, test_size=0.2, random_state=0)\n",
    "plt.figure(figsize=(10, 6))\n",
    "plot_learning_curve(plt, knn, \"Learn Curve for KNN Diabetes\", \n",
    "                    X, Y, ylim=(0.0, 1.01), cv=cv);"
   ]
  },
  {
   "cell_type": "code",
   "execution_count": 23,
   "metadata": {
    "collapsed": true
   },
   "outputs": [],
   "source": [
    "#我们来学习这个曲线\n",
    "#从图中可以看出来，训练样本评分较低，且测试样本与训练样本距离较大，这是典型的欠拟合现象。\n",
    "#k-均值算法没有更好的措施来解决欠拟合问题，我们可以试着用其他算法（如逻辑回归算法、支持向量机等）来对比不同模型的准确性情况。"
   ]
  },
  {
   "cell_type": "markdown",
   "metadata": {},
   "source": [
    "## 特征选择与数据可视化"
   ]
  },
  {
   "cell_type": "code",
   "execution_count": 24,
   "metadata": {
    "collapsed": true
   },
   "outputs": [],
   "source": [
    "#这里面我就想出了一个问题，有没有直观的方法，来揭示出为什么 k-均值算法不是针对这一问题的好模型？（数据可视化的意义所在）\n",
    "#一个办法是把数据画出来，可是我们有8个特征，无法在这么高的维度里画出数据，并直观地观察。\n",
    "#所以其中的一个解决办法是特征选择，即只选择2个与输出值相关性最大的特征，这样就可以在二维平面上画出输入特征值与输出值的关系了。\n",
    "#这里我们可以用scikit-learn 在 sklearn.feature_selection 包里提供了丰富的特征选择方法。我们使用 SelectKBest 来选择相关性最大的两个特征："
   ]
  },
  {
   "cell_type": "code",
   "execution_count": 28,
   "metadata": {},
   "outputs": [
    {
     "name": "stdout",
     "output_type": "stream",
     "text": [
      "[[ 148.    33.6]\n",
      " [  85.    26.6]\n",
      " [ 183.    23.3]\n",
      " [  89.    28.1]\n",
      " [ 137.    43.1]]\n"
     ]
    }
   ],
   "source": [
    "from sklearn.feature_selection import SelectKBest\n",
    "\n",
    "selector = SelectKBest(k=2)\n",
    "#把相关性最大的两个特征放在 X_new 变量里，同时输出了前5个数据样本。\n",
    "X_new = selector.fit_transform(X, Y)\n",
    "print(X_new[0:5])"
   ]
  },
  {
   "cell_type": "code",
   "execution_count": 29,
   "metadata": {
    "collapsed": true
   },
   "outputs": [],
   "source": [
    "#这时我们一定会想知道，相关性最大的特征到底是哪两个？当特征能看出来时我们对比一下本节开头的数据即可知道，\n",
    "#它们分别是 Glucose（血糖浓度）和 BMI（身体质量指数）。血糖浓度和糖尿病的关系自不必说，身体质量指数是反映肥胖程度的指标，\n",
    "#从业务角度来看，我们选择出来的2个相关性最高的特征还算合理。好学的读者可能想打破砂锅问到底：\n",
    "#SelectKBest 到底使用什么神奇的方法选择出了这两个相关性最高的特征呢？这里涉及到一些统计学的知识，如果感兴趣的话可参阅知乎中的延伸阅读。\n",
    "#我们来看看，如果只使用这2个相关性最高的特征的话，3种不同的 k-均值算法哪个准确性更高：\n",
    "#将X_new作为输入"
   ]
  },
  {
   "cell_type": "code",
   "execution_count": 30,
   "metadata": {},
   "outputs": [
    {
     "name": "stdout",
     "output_type": "stream",
     "text": [
      "name: KNN; cross val score: 0.725205058099795\n",
      "name: KNN with weights; cross val score: 0.6900375939849623\n",
      "name: Radius Neighbors; cross val score: 0.6510252904989747\n"
     ]
    }
   ],
   "source": [
    "results = []\n",
    "for name, model in models:\n",
    "    kfold = KFold(n_splits=10)\n",
    "    cv_result = cross_val_score(model, X_new, Y, cv=kfold)\n",
    "    results.append((name, cv_result))\n",
    "for i in range(len(results)):\n",
    "    print(\"name: {}; cross val score: {}\".format(\n",
    "        results[i][0],results[i][1].mean()))"
   ]
  },
  {
   "cell_type": "code",
   "execution_count": 31,
   "metadata": {
    "collapsed": true
   },
   "outputs": [],
   "source": [
    "#从输出可以看出来，还是普通的 k-均值模型准确性较高，其准确性也达到了将近73%，\n",
    "#与所有特征拿来一块儿训练的准确性差不多。这也侧面证明了 SelectKBest 特征选择的准确性。\n",
    "#回到目标上来，我们是想看看为什么 k-均值无法很好地拟合训练样本。\n",
    "#现在我们只有2个特征，可以很方便地在二维坐标上画出所有的训练样本，观察这些数据的分布情况："
   ]
  },
  {
   "cell_type": "code",
   "execution_count": 33,
   "metadata": {},
   "outputs": [
    {
     "data": {
      "image/png": "[encoded data removed]",
      "text/plain": [
       "<matplotlib.figure.Figure at 0x1f0df17e748>"
      ]
     },
     "metadata": {},
     "output_type": "display_data"
    }
   ],
   "source": [
    "# 画出数据\n",
    "plt.figure(figsize=(10, 6))\n",
    "plt.ylabel(\"BMI\")\n",
    "plt.xlabel(\"Glucose\")\n",
    "plt.scatter(X_new[Y==0][:, 0], X_new[Y==0][:, 1], c='r', s=20, marker='o');         # 画出样本\n",
    "plt.scatter(X_new[Y==1][:, 0], X_new[Y==1][:, 1], c='g', s=20, marker='^');         # 画出样本"
   ]
  },
  {
   "cell_type": "code",
   "execution_count": 34,
   "metadata": {
    "collapsed": true
   },
   "outputs": [],
   "source": [
    "#从数据分布图我们可以看出\n",
    "#横坐标是血糖值，纵坐标是 BMI 值，反映身体肥胖情况。\n",
    "#从图中可以看出，在中间数据集密集的区域，阳性样本和阴性样本几乎重叠在一起了。\n",
    "#假设现在有一个待预测的样本在中间密集区域，它的阳性邻居多还是阴性邻居多呢？\n",
    "#这真的很难说。这样就可以直观地看到，k-均值算法在这个糖尿病预测问题上，无法达到很高的预测准确性。"
   ]
  },
  {
   "cell_type": "code",
   "execution_count": null,
   "metadata": {
    "collapsed": true
   },
   "outputs": [],
   "source": []
  }
 ],
 "metadata": {
  "kernelspec": {
   "display_name": "Python 3",
   "language": "python",
   "name": "python3"
  },
  "language_info": {
   "codemirror_mode": {
    "name": "ipython",
    "version": 3
   },
   "file_extension": ".py",
   "mimetype": "text/x-python",
   "name": "python",
   "nbconvert_exporter": "python",
   "pygments_lexer": "ipython3",
   "version": "3.6.3"
  }
 },
 "nbformat": 4,
 "nbformat_minor": 2
}
